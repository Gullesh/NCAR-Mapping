{
 "cells": [
  {
   "cell_type": "code",
   "execution_count": 1,
   "metadata": {},
   "outputs": [],
   "source": [
    "import numpy as np\n",
    "import astropy.io.fits\n",
    "import random\n",
    "import os\n",
    "import os.path\n",
    "from sklearn.cluster import KMeans\n",
    "from astropy.time import Time\n",
    "from matplotlib import pyplot as plt\n",
    "import pandas as pd\n",
    "from sklearn.metrics import silhouette_samples, silhouette_score\n",
    "import cudf\n",
    "from cuml.cluster import DBSCAN\n",
    "import timeit\n",
    "from cuml.neighbors import NearestNeighbors\n",
    "from cuml.cluster import KMeans as cudkmean\n"
   ]
  },
  {
   "cell_type": "code",
   "execution_count": 2,
   "metadata": {},
   "outputs": [],
   "source": [
    "\n",
    "# Normalizing between [1,-1]\n",
    "def normal(a):\n",
    "    \n",
    "    aa = a - a.min()\n",
    "    bb = a.max() - a.min()\n",
    "    cc = (2 * aa) / bb\n",
    "    dd = cc - 1\n",
    "    return dd\n",
    "\n",
    "\n",
    "# Unnormal\n",
    "\n",
    "def unnormal(norm, pure):\n",
    "    ee = norm + 1\n",
    "    ff = ee/2\n",
    "    gg = ff * (pure.max() - pure.min())\n",
    "    hh = gg + pure.min()\n",
    "    return hh\n",
    "\n",
    "\n",
    "# Getting Features\n",
    "\n",
    "def getFeatures(Name):\n",
    "    fileData = astropy.io.fits.open(Name)\n",
    "    B = fileData[1].data\n",
    "    B = np.array(B, dtype=np.float64)\n",
    "    Binc = fileData[2].data\n",
    "    Binc = np.array(Binc, dtype=np.float64)\n",
    "    Bazi = fileData[3].data\n",
    "    Bazi = np.array(Bazi, dtype=np.float64)\n",
    "    DopF = fileData[4].data\n",
    "    DopF = np.array(DopF, dtype=np.float64)\n",
    "    #DopS = fileData[5].data\n",
    "    #DopS = np.array(DopS, dtype=np.float64)\n",
    "    SLFF = fileData[12].data\n",
    "    SLFF = np.array(SLFF, dtype=np.float64)\n",
    "    CI = fileData[32].data\n",
    "    CI = np.array(CI, dtype=np.float64)\n",
    "\n",
    "\n",
    "    return B, Binc, Bazi, DopF, SLFF, CI\n",
    "\n",
    "\n",
    "# Removing that effect due to doppler shifts\n",
    "\n",
    "def canNoise(Doppler):\n",
    "    \n",
    "    y = np.mean(Doppler, 0)\n",
    "    x = np.array(range(Doppler.shape[1]))\n",
    "    m, b = np.polyfit(x, y, 1)\n",
    "    v = m*x + b\n",
    "    out = Doppler - v\n",
    "\n",
    "    return out\n",
    "\n",
    "# Normalizing angles\n",
    "\n",
    "def normangle(feature):\n",
    "    \n",
    "    \n",
    "    a = np.cos(np.deg2rad(feature))\n",
    "    \n",
    "    return a\n",
    "\n",
    "\n",
    "# Concatenating all the observations\n",
    "\n",
    "def concatfeatures(NewList):\n",
    "\n",
    "    Btot, Binctot, DopFtot, SLFFtot, CItot = np.array([]), np.array([]),np.array([]), np.array([]),np.array([])\n",
    "\n",
    "\n",
    "\n",
    "    for j in NewList:\n",
    "\n",
    "        B, Binc, Bazi, DopF, SLFF, CI = getFeatures(j)\n",
    "        Btot = np.concatenate((Btot, B), axis=None)\n",
    "        Binctot = np.concatenate((Binctot, Binc), axis=None)\n",
    "        DopFtot = np.concatenate((DopFtot, canNoise(DopF)), axis=None)\n",
    "        SLFFtot = np.concatenate((SLFFtot, SLFF), axis=None)\n",
    "        CItot = np.concatenate((CItot, CI), axis=None)\n",
    "    \n",
    "    \n",
    "    return Btot, Binctot, DopFtot, SLFFtot, CItot\n",
    "\n",
    "# A function to get a window of w*w from each map as a subsample\n",
    "\n",
    "def confe(NewList, w):\n",
    "\n",
    "    Btot, Binctot, DopFtot, SLFFtot, CItot = np.array([]), np.array([]),np.array([]), np.array([]),np.array([])\n",
    "\n",
    "\n",
    "\n",
    "    for j in NewList:\n",
    "\n",
    "        B, Binc, Bazi, DopF, SLFF, CI = getFeatures(j)\n",
    "        x, y = B.shape\n",
    "        yy = random.randint(0, y-(w+1))\n",
    "        xx = random.randint(0, x-(w+1))\n",
    "        \n",
    "        BB = B[xx:xx+w, yy:yy+w]\n",
    "        \n",
    "        BBinc = Binc[xx:xx+w, yy:yy+w]\n",
    "        \n",
    "        DopFF = canNoise(DopF)\n",
    "        DDopF = DopFF[xx:xx+w, yy:yy+w]\n",
    "        \n",
    "        FF = SLFF[xx:xx+w, yy:yy+w]\n",
    "        \n",
    "        CCI = CI[xx:xx+w, yy:yy+w]\n",
    "\n",
    "        Btot = np.concatenate((Btot, BB), axis=None)\n",
    "        Binctot = np.concatenate((Binctot, BBinc), axis=None)\n",
    "        DopFtot = np.concatenate((DopFtot, DDopF), axis=None)\n",
    "        SLFFtot = np.concatenate((SLFFtot, FF), axis=None)\n",
    "        CItot = np.concatenate((CItot, CCI), axis=None)\n",
    "    \n",
    "    \n",
    "    return Btot, Binctot, DopFtot, SLFFtot, CItot\n",
    "\n",
    "\n",
    "\n",
    "\n",
    "\n",
    "# Plot mappings\n",
    "def pltmaps(labels, dimList):\n",
    "    \n",
    "    start = 0\n",
    "    end = 0\n",
    "\n",
    "    for s, tple in enumerate(dimList):\n",
    "\n",
    "        end += tple[0] * tple[1]\n",
    "\n",
    "        pltimg(labels[start:end], tple, s, dir)\n",
    "\n",
    "        start = end \n",
    "        \n",
    "def pltimg(labels, tple, s):\n",
    "    \n",
    "    fileData = (NewList[s])\n",
    "    v = fileData[42:-5]\n",
    "    labless = labels.reshape(tple)\n",
    "    plt.figure(figsize=(16,9))\n",
    "    plt.imshow(labless, cmap=\"plasma\", origin=\"bottom\")\n",
    "    plt.colorbar()\n",
    "    plt.savefig(dir+'/'+ v + '.png')\n",
    "    \n",
    "\n",
    "# Making a list for dimensions of observations\n",
    "def dimlist(filenames):\n",
    "    \n",
    "    dimList = list()\n",
    "\n",
    "\n",
    "    for i in NewList:\n",
    "\n",
    "        file = astropy.io.fits.open(i)\n",
    "        x, y = file[1].data.shape\n",
    "        dimList.append((x, y))\n",
    "    \n",
    "    return dimList"
   ]
  },
  {
   "cell_type": "code",
   "execution_count": 5,
   "metadata": {},
   "outputs": [
    {
     "name": "stdout",
     "output_type": "stream",
     "text": [
      "(1395712, 5)\n"
     ]
    }
   ],
   "source": [
    "# Reading our files in related directory\n",
    "NorthDir='/glade/work/egeland/hinode_synoptic/north'\n",
    "allfiles = [os.path.join(NorthDir, f) for f in sorted(os.listdir(NorthDir))]\n",
    "\n",
    "# Removing all sav files\n",
    "NewList=[item for i,item in enumerate(allfiles) if i%2==0]\n",
    "b = []\n",
    "\n",
    "#Getting only fastmaps\n",
    "for item in NewList:\n",
    "    \n",
    "    fileData = astropy.io.fits.open(item)\n",
    "    a = fileData[0].header['YSCALE']\n",
    "    if a > 0.16 :\n",
    "        b.append(item)\n",
    "        \n",
    "NewList = b\n",
    "\n",
    "\n",
    "NewList = NewList[:3]\n",
    "dimList = dimlist(NewList)\n",
    "# concatenating all samples(pixels) in each feature\n",
    "Btot, Binctot, DopFtot, SLFFtot, CItot = concatfeatures(NewList[:3])\n",
    "\n",
    "for it, item in enumerate(Btot):\n",
    "    \n",
    "    if item < 200:\n",
    "        \n",
    "        Btot[it] = 0\n",
    "        Binctot[it] = 90\n",
    "        SLFFtot[it] = 0\n",
    "        \n",
    "    elif item > 2000:\n",
    "        \n",
    "        Btot[it] = 2000\n",
    "        \n",
    "        \n",
    "\n",
    "# Normalizing Features\n",
    "Btotn = normal(Btot)\n",
    "Binctotn = normangle(Binctot)\n",
    "DopFtotn = normal(DopFtot)\n",
    "SLFFtotn = normal(SLFFtot)\n",
    "CItotn = normal(CItot)\n",
    "\n",
    "# Preparing the input for our clustering method\n",
    "da = np.array([Btotn, Binctotn, DopFtotn, SLFFtotn, CItotn])\n",
    "fda = np.transpose(da)\n",
    "print(fda.shape)"
   ]
  },
  {
   "cell_type": "code",
   "execution_count": 6,
   "metadata": {},
   "outputs": [
    {
     "name": "stdout",
     "output_type": "stream",
     "text": [
      "Time:  31.790506523102522\n"
     ]
    }
   ],
   "source": [
    "start = timeit.default_timer()\n",
    "X_cudf = cudf.DataFrame.from_gpu_matrix(fda)\n",
    "model = NearestNeighbors(n_neighbors=2)\n",
    "model.fit(X_cudf)\n",
    "\n",
    "# get 3 nearest neighbors\n",
    "distances, indices = model.kneighbors(X_cudf)\n",
    "stop = timeit.default_timer()\n",
    "print('Time: ', stop - start) "
   ]
  },
  {
   "cell_type": "code",
   "execution_count": 7,
   "metadata": {},
   "outputs": [
    {
     "data": {
      "text/plain": [
       "[<matplotlib.lines.Line2D at 0x2af0235e8da0>]"
      ]
     },
     "execution_count": 7,
     "metadata": {},
     "output_type": "execute_result"
    },
    {
     "data": {
      "image/png": "[encoded data removed]",
      "text/plain": [
       "<Figure size 1152x648 with 1 Axes>"
      ]
     },
     "metadata": {
      "needs_background": "light"
     },
     "output_type": "display_data"
    }
   ],
   "source": [
    "distancess = np.sort(distances.as_matrix(), axis=0)\n",
    "distancesss = distancess[:,1]\n",
    "plt.figure(figsize=(16,9))\n",
    "plt.grid(True)\n",
    "plt.ylim((0, 0.4)) \n",
    "plt.plot(distancesss)"
   ]
  },
  {
   "cell_type": "markdown",
   "metadata": {},
   "source": [
    "#### Eps sounds to be 0.05"
   ]
  },
  {
   "cell_type": "code",
   "execution_count": 10,
   "metadata": {},
   "outputs": [
    {
     "name": "stdout",
     "output_type": "stream",
     "text": [
      "[(512, 986), (512, 755), (512, 985)]\n",
      "386560\n"
     ]
    },
    {
     "data": {
      "text/plain": [
       "891392"
      ]
     },
     "execution_count": 10,
     "metadata": {},
     "output_type": "execute_result"
    }
   ],
   "source": [
    "print(dimList)\n",
    "print(512*755)\n",
    "504832 + (512*755)"
   ]
  },
  {
   "cell_type": "code",
   "execution_count": null,
   "metadata": {},
   "outputs": [],
   "source": [
    "cudf.set_allocator(\"managed\")\n",
    "start = timeit.default_timer()\n",
    "db = DBSCAN(eps=0.05, min_samples=1000).fit(X_cudf)\n",
    "db_labels = db.labels_\n",
    "#silhouette_avg1 = silhouette_score(fda[:504832], db_labels.to_array()[:504832])\n",
    "silhouette_avg2 = silhouette_score(fda[504832:891392], db_labels.to_array()[504832:891392])\n",
    "#silhouette_avg3 = silhouette_score(fda[891392:], db_labels.to_array()[891392:])\n",
    "\n",
    "#print(silhouette_avg1)\n",
    "print(silhouette_avg2)\n",
    "#print(silhouette_avg3)\n",
    "\n",
    "stop = timeit.default_timer()\n",
    "print('Time: ', stop - start)"
   ]
  },
  {
   "cell_type": "code",
   "execution_count": 9,
   "metadata": {},
   "outputs": [
    {
     "name": "stdout",
     "output_type": "stream",
     "text": [
      "0.370539815004127\n",
      "Time:  142.01712276192848\n"
     ]
    }
   ],
   "source": [
    "start = timeit.default_timer()\n",
    "\n",
    "cud = cudkmean(n_clusters = 12)\n",
    "cud.fit(X_cudf)\n",
    "km_labels = cud.labels_\n",
    "silhouette_avg1 = silhouette_score(fda[:504832],  km_labels.to_array()[:504832])\n",
    "silhouette_avg2 = silhouette_score(fda[504832:891392], km_labels.to_array()[504832:891392])\n",
    "silhouette_avg3 = silhouette_score(fda[891392:], km_labels.to_array()[891392:])\n",
    "\n",
    "print(silhouette_avg1)\n",
    "print(silhouette_avg2)\n",
    "print(silhouette_avg3)\n",
    "stop = timeit.default_timer()\n",
    "\n",
    "print('Time: ', stop - start) "
   ]
  },
  {
   "cell_type": "code",
   "execution_count": null,
   "metadata": {},
   "outputs": [],
   "source": [
    "## ploting dbscan results\n",
    "dir = \"db\"\n",
    "pltmaps(db_labels.to_array(), dimList)"
   ]
  },
  {
   "cell_type": "code",
   "execution_count": null,
   "metadata": {},
   "outputs": [],
   "source": [
    "## ploting k results\n",
    "dir = \"km\"\n",
    "pltmaps(km_labels.to_array(), dimList)"
   ]
  }
 ],
 "metadata": {
  "kernelspec": {
   "display_name": "Python 3",
   "language": "python",
   "name": "python3"
  },
  "language_info": {
   "codemirror_mode": {
    "name": "ipython",
    "version": 3
   },
   "file_extension": ".py",
   "mimetype": "text/x-python",
   "name": "python",
   "nbconvert_exporter": "python",
   "pygments_lexer": "ipython3",
   "version": "3.6.10"
  }
 },
 "nbformat": 4,
 "nbformat_minor": 4
}
