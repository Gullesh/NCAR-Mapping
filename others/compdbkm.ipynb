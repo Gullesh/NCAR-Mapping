{
 "cells": [
  {
   "cell_type": "code",
   "execution_count": 1,
   "metadata": {},
   "outputs": [],
   "source": [
    "import numpy as np\n",
    "import astropy.io.fits\n",
    "import random\n",
    "import os\n",
    "import os.path\n",
    "from collections import Counter\n",
    "from PIL import Image\n",
    "from sklearn.cluster import KMeans\n",
    "from astropy.time import Time\n",
    "import csv\n",
    "from statistics import stdev\n",
    "from statistics import mean\n",
    "import math\n",
    "from matplotlib import pyplot as plt\n",
    "import pandas as pd\n",
    "from sklearn.metrics import silhouette_samples, silhouette_score\n",
    "import matplotlib.cm as cm\n",
    "import cudf\n",
    "from cuml.cluster import DBSCAN\n",
    "from cuml.cluster import KMeans as cudkmean\n",
    "import timeit\n",
    "\n",
    "# Normalizing between [1,-1]\n",
    "def normal(a):\n",
    "    \n",
    "    aa = a - a.min()\n",
    "    bb = a.max() - a.min()\n",
    "    cc = (2 * aa) / bb\n",
    "    dd = cc - 1\n",
    "    return dd\n",
    "\n",
    "\n",
    "# Unnormal\n",
    "\n",
    "def unnormal(norm, pure):\n",
    "    ee = norm + 1\n",
    "    ff = ee/2\n",
    "    gg = ff * (pure.max() - pure.min())\n",
    "    hh = gg + pure.min()\n",
    "    return hh\n",
    "\n",
    "\n",
    "# Getting Features\n",
    "\n",
    "def getFeatures(Name):\n",
    "    fileData = astropy.io.fits.open(Name)\n",
    "    B = fileData[1].data\n",
    "    B = np.array(B, dtype=np.float32)\n",
    "    Binc = fileData[2].data\n",
    "    Binc = np.array(Binc, dtype=np.float32)\n",
    "    Bazi = fileData[3].data\n",
    "    Bazi = np.array(Bazi, dtype=np.float32)\n",
    "    DopF = fileData[4].data\n",
    "    DopF = np.array(DopF, dtype=np.float32)\n",
    "    #DopS = fileData[5].data\n",
    "    #DopS = np.array(DopS, dtype=np.float64)\n",
    "    SLFF = fileData[12].data\n",
    "    SLFF = np.array(SLFF, dtype=np.float32)\n",
    "    CI = fileData[32].data\n",
    "    CI = np.array(CI, dtype=np.float32)\n",
    "\n",
    "\n",
    "    return B, Binc, Bazi, DopF, SLFF, CI\n",
    "\n",
    "\n",
    "# Removing that effect due to doppler shifts\n",
    "\n",
    "def canNoise(Doppler):\n",
    "    \n",
    "    y = np.mean(Doppler, 0)\n",
    "    x = np.array(range(Doppler.shape[1]))\n",
    "    m, b = np.polyfit(x, y, 1)\n",
    "    v = m*x + b\n",
    "    out = Doppler - v\n",
    "\n",
    "    return out\n",
    "\n",
    "# Normalizing angles\n",
    "\n",
    "def normangle(feature):\n",
    "    \n",
    "    \n",
    "    a = np.cos(np.deg2rad(feature))\n",
    "    \n",
    "    return a\n",
    "      \n",
    "\n",
    "# Making a list for dimensions of observations\n",
    "def dimlist(filenames):\n",
    "    \n",
    "    dimList = list()\n",
    "\n",
    "\n",
    "    for i in NewList:\n",
    "\n",
    "        file = astropy.io.fits.open(i)\n",
    "        x, y = file[1].data.shape\n",
    "        dimList.append((x, y))\n",
    "    \n",
    "    return dimList\n",
    "\n",
    "\n",
    "# Concatenating all the observations\n",
    "\n",
    "def concatfeatures(NewList):\n",
    "\n",
    "    Btot, Binctot, DopFtot, SLFFtot, CItot = np.array([]), np.array([]),np.array([]), np.array([]),np.array([])\n",
    "\n",
    "\n",
    "\n",
    "    for j in NewList:\n",
    "\n",
    "        B, Binc, Bazi, DopF, SLFF, CI = getFeatures(j)\n",
    "        Btot = np.concatenate((Btot, B), axis=None)\n",
    "        Binctot = np.concatenate((Binctot, Binc), axis=None)\n",
    "        DopFtot = np.concatenate((DopFtot, canNoise(DopF)), axis=None)\n",
    "        SLFFtot = np.concatenate((SLFFtot, SLFF), axis=None)\n",
    "        CItot = np.concatenate((CItot, CI), axis=None)\n",
    "    \n",
    "    \n",
    "    return Btot, Binctot, DopFtot, SLFFtot, CItot\n",
    "\n",
    "#Concateraw\n",
    "def conpure(NewList):\n",
    "\n",
    "    Btot, DopFtot, SLFFtot, CItot = np.array([]),np.array([]), np.array([]),np.array([])\n",
    "\n",
    "    for j in NewList:\n",
    "\n",
    "        B, Binc, Bazi, DopF, SLFF, CI = getFeatures(j)\n",
    "        Btot = np.concatenate((Btot, B), axis=None)\n",
    "        DopFtot = np.concatenate((DopFtot, DopF), axis=None)\n",
    "        SLFFtot = np.concatenate((SLFFtot, SLFF), axis=None)\n",
    "        CItot = np.concatenate((CItot, CI), axis=None)\n",
    "    \n",
    "    \n",
    "    return Btot, DopFtot, SLFFtot, CItot\n",
    "\n",
    "\n",
    "# Plot mappings\n",
    "def pltmaps(labels, dimList, k):\n",
    "    \n",
    "    start = 0\n",
    "    end = 0\n",
    "\n",
    "    for s, tple in enumerate(dimList):\n",
    "\n",
    "        end += tple[0] * tple[1]\n",
    "\n",
    "        pltimg(labels[start:end], tple, s)\n",
    "\n",
    "        start = end \n",
    "        \n",
    "def pltimg(labels, tple, s):\n",
    "    \n",
    "    fileData = (NewList[s])\n",
    "    v = fileData[42:-5]\n",
    "    labless = labels.reshape(tple)\n",
    "    plt.figure(figsize=(16,9))\n",
    "    plt.imshow(labless, cmap=\"viridis\", origin=\"bottom\")\n",
    "    plt.colorbar()\n",
    "    plt.savefig(dir+'/'+ v + '.png')\n",
    "\n",
    "    \n",
    "    \n",
    "\n",
    "    \n",
    "    \n",
    "NorthDir='/glade/work/egeland/hinode_synoptic/north'\n",
    "allfiles = [os.path.join(NorthDir, f) for f in sorted(os.listdir(NorthDir))]\n",
    "\n",
    "# Removing all sav files\n",
    "NewList=[item for i,item in enumerate(allfiles) if i%2==0]\n",
    "b = []\n",
    "\n",
    "for item in NewList:\n",
    "    \n",
    "    fileData = astropy.io.fits.open(item)\n",
    "    a = fileData[0].header['YSCALE']\n",
    "    if a > 0.16 :\n",
    "        b.append(item)\n",
    "\n",
    "NewList = []       \n",
    "NewList = b"
   ]
  },
  {
   "cell_type": "code",
   "execution_count": 4,
   "metadata": {},
   "outputs": [],
   "source": [
    "def confe(NewList):\n",
    "\n",
    "    Btot, Binctot, DopFtot, SLFFtot, CItot = np.array([]), np.array([]),np.array([]), np.array([]),np.array([])\n",
    "\n",
    "\n",
    "\n",
    "    for j in NewList:\n",
    "\n",
    "        B, Binc, Bazi, DopF, SLFF, CI = getFeatures(j)\n",
    "        x, y = B.shape\n",
    "        yy = random.randint(0, y-151)\n",
    "        xx = random.randint(0, x-151)\n",
    "        \n",
    "        BB = B[xx:xx+150, yy:yy+150]\n",
    "        \n",
    "        BBinc = Binc[xx:xx+150, yy:yy+150]\n",
    "        \n",
    "        DopFF = canNoise(DopF)\n",
    "        DDopF = DopFF[xx:xx+150, yy:yy+150]\n",
    "        \n",
    "        FF = SLFF[xx:xx+150, yy:yy+150]\n",
    "        \n",
    "        CCI = CI[xx:xx+150, yy:yy+150]\n",
    "\n",
    "        Btot = np.concatenate((Btot, BB), axis=None)\n",
    "        Binctot = np.concatenate((Binctot, BBinc), axis=None)\n",
    "        DopFtot = np.concatenate((DopFtot, DDopF), axis=None)\n",
    "        SLFFtot = np.concatenate((SLFFtot, FF), axis=None)\n",
    "        CItot = np.concatenate((CItot, CCI), axis=None)\n",
    "    \n",
    "    \n",
    "    return Btot, Binctot, DopFtot, SLFFtot, CItot\n",
    "\n",
    "Btot, Binctot, DopFtot, SLFFtot, CItot = confe(NewList)\n",
    "\n",
    "\n",
    "for it, item in enumerate(Btot):\n",
    "    \n",
    "    if item < 200:\n",
    "        \n",
    "        Btot[it] = 0\n",
    "        Binctot[it] = 90\n",
    "        SLFFtot[it] = 0\n",
    "        \n",
    "    elif item > 2000:\n",
    "        \n",
    "        Btot[it] = 2000\n",
    "        \n",
    "\n",
    "Btotn = normal(Btot)\n",
    "Binctotn = normangle(Binctot)\n",
    "DopFtotn = normal(DopFtot)\n",
    "SLFFtotn = normal(SLFFtot)\n",
    "CItotn = normal(CItot)\n",
    "\n",
    "da = np.array([Btotn, Binctotn, DopFtotn, SLFFtotn, CItotn])\n",
    "fda = np.transpose(da)"
   ]
  },
  {
   "cell_type": "code",
   "execution_count": 5,
   "metadata": {},
   "outputs": [
    {
     "name": "stdout",
     "output_type": "stream",
     "text": [
      "(1057500, 5)\n"
     ]
    }
   ],
   "source": [
    "print(fda.shape)\n",
    "cudf.set_allocator(\"managed\")\n",
    "X_df = pd.DataFrame({'fea%d'%i: fda[:, i] for i in range(fda.shape[1])})\n",
    "X_gpu = cudf.DataFrame.from_pandas(X_df)"
   ]
  },
  {
   "cell_type": "code",
   "execution_count": 6,
   "metadata": {},
   "outputs": [
    {
     "name": "stdout",
     "output_type": "stream",
     "text": [
      "Time:  0.6625460569921415\n",
      "Time:  0.14101982201100327\n",
      "Time:  0.13779906500712968\n",
      "Time:  0.24456311701214872\n",
      "Time:  0.23960669300868176\n",
      "Time:  0.4774460500048008\n",
      "Time:  0.3605811030138284\n",
      "Time:  0.47000803699484095\n",
      "Time:  0.6177486900123768\n",
      "Time:  0.4843147420033347\n",
      "Time:  0.5363695590058342\n",
      "Time:  0.6458174079889432\n",
      "Time:  0.6209710609982722\n",
      "Time:  0.6678162159805652\n",
      "Time:  1.0687934039742686\n",
      "Time:  0.8960254470002837\n",
      "Time:  0.736361631017644\n",
      "Time:  0.847834319982212\n",
      "Time:  1.3763318140117917\n",
      "Time:  1.1973006979969796\n",
      "Time:  1.7265338689903729\n",
      "Time:  1.2558904390025418\n",
      "Time:  1.837498651992064\n",
      "Time:  1.555456681002397\n",
      "Time:  1.9425248419865966\n",
      "Time:  1.2688064229732845\n",
      "Time:  2.014992255019024\n",
      "Time:  1.983925006003119\n",
      "Time:  1.7227885839820374\n",
      "Time:  2.4937613160000183\n"
     ]
    }
   ],
   "source": [
    "kk = np.array(range(2,151, 5))\n",
    "inlist = np.array([])\n",
    "for k in kk:\n",
    "\n",
    "    start = timeit.default_timer()\n",
    "\n",
    "    cud = cudkmean(n_clusters = k)\n",
    "    cud.fit(X_gpu)\n",
    "    inert = cud.score(X_gpu)\n",
    "    inlist = np.append(inlist, inert)\n",
    "    stop = timeit.default_timer()\n",
    "\n",
    "    print('Time: ', stop - start) "
   ]
  },
  {
   "cell_type": "code",
   "execution_count": 7,
   "metadata": {},
   "outputs": [
    {
     "data": {
      "image/png": "[encoded data removed]",
      "text/plain": [
       "<Figure size 432x288 with 1 Axes>"
      ]
     },
     "metadata": {
      "needs_background": "light"
     },
     "output_type": "display_data"
    }
   ],
   "source": [
    "plt.plot(kk, np.abs(inlist))\n",
    "plt.show()\n"
   ]
  },
  {
   "cell_type": "code",
   "execution_count": 8,
   "metadata": {},
   "outputs": [],
   "source": [
    "'''\n",
    "b = []\n",
    "\n",
    "for item in NewList:\n",
    "    \n",
    "    fileData = astropy.io.fits.open(item)\n",
    "    a = fileData[0].header['YSCALE']\n",
    "    if a > 0.16 :\n",
    "        b.append(item)\n",
    "\n",
    "NewList = []       \n",
    "NewList = b\n",
    "'''\n",
    "dimList = dimlist(NewList)\n",
    "\n",
    "Btot, Binctot, DopFtot, SLFFtot, CItot = concatfeatures(NewList)\n",
    "\n",
    "for it, item in enumerate(Btot):\n",
    "    \n",
    "    if item < 200:\n",
    "        \n",
    "        Btot[it] = 0\n",
    "        Binctot[it] = 90\n",
    "        SLFFtot[it] = 0\n",
    "        \n",
    "    elif item > 2000:\n",
    "        \n",
    "        Btot[it] = 2000\n",
    "        \n",
    "        \n",
    "\n",
    "# Normalizing Features\n",
    "Btotn = normal(Btot)\n",
    "Binctotn = normangle(Binctot)\n",
    "DopFtotn = normal(DopFtot)\n",
    "SLFFtotn = normal(SLFFtot)\n",
    "CItotn = normal(CItot)\n",
    "\n",
    "da = np.array([Btotn, Binctotn, DopFtotn, SLFFtotn, CItotn])\n",
    "fda = np.transpose(da)"
   ]
  },
  {
   "cell_type": "code",
   "execution_count": 9,
   "metadata": {},
   "outputs": [
    {
     "name": "stdout",
     "output_type": "stream",
     "text": [
      "(22620160, 5)\n"
     ]
    }
   ],
   "source": [
    "print(fda.shape)\n",
    "cudf.set_allocator(\"managed\")\n",
    "X_df = pd.DataFrame({'fea%d'%i: fda[:, i] for i in range(fda.shape[1])})\n",
    "X_gpu = cudf.DataFrame.from_pandas(X_df)"
   ]
  },
  {
   "cell_type": "code",
   "execution_count": 10,
   "metadata": {},
   "outputs": [
    {
     "name": "stdout",
     "output_type": "stream",
     "text": [
      "Time:  1.465702766989125\n",
      "Time:  2.1457774369919207\n",
      "Time:  4.087013845972251\n",
      "Time:  3.039745219022734\n",
      "Time:  5.626181633997476\n",
      "Time:  5.296133115974953\n",
      "Time:  5.959345231996849\n",
      "Time:  10.790861033980036\n",
      "Time:  8.58681452300516\n",
      "Time:  7.954684108000947\n",
      "Time:  8.23137446999317\n",
      "Time:  11.221193923993269\n",
      "Time:  11.687541633000365\n",
      "Time:  18.747303045995068\n",
      "Time:  16.99861641100142\n",
      "Time:  26.09733009999036\n",
      "Time:  24.52871418200084\n",
      "Time:  13.657401903998107\n",
      "Time:  18.478931762976572\n",
      "Time:  22.38240594501258\n",
      "Time:  19.497040956979617\n",
      "Time:  21.73880359798204\n",
      "Time:  25.47247453298769\n",
      "Time:  23.35492264200002\n",
      "Time:  25.660348631994566\n",
      "Time:  26.866451335023157\n",
      "Time:  27.833242199994856\n",
      "Time:  30.709430863003945\n",
      "Time:  58.91793671800406\n",
      "Time:  47.890501265996136\n"
     ]
    }
   ],
   "source": [
    "kk = np.array(range(2,151,5))\n",
    "inlist = np.array([])\n",
    "for k in kk:\n",
    "\n",
    "    start = timeit.default_timer()\n",
    "\n",
    "    cud = cudkmean(n_clusters = k)\n",
    "    cud.fit(X_gpu)\n",
    "    inert = cud.score(X_gpu)\n",
    "    inlist = np.append(inlist, inert)\n",
    "    stop = timeit.default_timer()\n",
    "\n",
    "    print('Time: ', stop - start) "
   ]
  },
  {
   "cell_type": "code",
   "execution_count": 46,
   "metadata": {},
   "outputs": [
    {
     "name": "stdout",
     "output_type": "stream",
     "text": [
      "[-1311391.10696058  -836362.30634143  -533211.59586583  -413755.71856406\n",
      "  -380490.07242532  -439519.31185133  -346471.93689681  -335222.31213924\n",
      "  -284223.11267757  -250261.87189531]\n"
     ]
    }
   ],
   "source": [
    "print(inlists)"
   ]
  },
  {
   "cell_type": "code",
   "execution_count": 13,
   "metadata": {},
   "outputs": [
    {
     "data": {
      "image/png": "[encoded data removed]",
      "text/plain": [
       "<Figure size 1152x648 with 1 Axes>"
      ]
     },
     "metadata": {
      "needs_background": "light"
     },
     "output_type": "display_data"
    },
    {
     "data": {
      "text/plain": [
       "<Figure size 432x288 with 0 Axes>"
      ]
     },
     "metadata": {},
     "output_type": "display_data"
    }
   ],
   "source": [
    "plt.figure(figsize=(16,9))\n",
    "plt.plot(kk, np.abs(inlist))\n",
    "plt.show()\n",
    "plt.savefig('ehe.png')"
   ]
  },
  {
   "cell_type": "code",
   "execution_count": 12,
   "metadata": {},
   "outputs": [
    {
     "data": {
      "text/plain": [
       "<Figure size 432x288 with 0 Axes>"
      ]
     },
     "metadata": {},
     "output_type": "display_data"
    }
   ],
   "source": [
    "plt.savefig( 'ehe.png')\n"
   ]
  },
  {
   "cell_type": "code",
   "execution_count": null,
   "metadata": {},
   "outputs": [],
   "source": []
  }
 ],
 "metadata": {
  "kernelspec": {
   "display_name": "Python 3",
   "language": "python",
   "name": "python3"
  },
  "language_info": {
   "codemirror_mode": {
    "name": "ipython",
    "version": 3
   },
   "file_extension": ".py",
   "mimetype": "text/x-python",
   "name": "python",
   "nbconvert_exporter": "python",
   "pygments_lexer": "ipython3",
   "version": "3.6.10"
  }
 },
 "nbformat": 4,
 "nbformat_minor": 4
}
