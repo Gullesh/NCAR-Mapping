{
 "cells": [
  {
   "cell_type": "code",
   "execution_count": 1,
   "metadata": {},
   "outputs": [
    {
     "data": {
      "text/plain": [
       "72"
      ]
     },
     "execution_count": 1,
     "metadata": {},
     "output_type": "execute_result"
    }
   ],
   "source": [
    "import multiprocessing\n",
    "\n",
    "multiprocessing.cpu_count()"
   ]
  },
  {
   "cell_type": "code",
   "execution_count": 2,
   "metadata": {},
   "outputs": [
    {
     "data": {
      "text/plain": [
       "72"
      ]
     },
     "execution_count": 2,
     "metadata": {},
     "output_type": "execute_result"
    }
   ],
   "source": [
    "import os\n",
    "os.cpu_count()"
   ]
  },
  {
   "cell_type": "code",
   "execution_count": 3,
   "metadata": {},
   "outputs": [
    {
     "data": {
      "text/plain": [
       "2"
      ]
     },
     "execution_count": 3,
     "metadata": {},
     "output_type": "execute_result"
    }
   ],
   "source": [
    "import os\n",
    "len(os.sched_getaffinity(0))"
   ]
  },
  {
   "cell_type": "code",
   "execution_count": 2,
   "metadata": {},
   "outputs": [],
   "source": [
    "import numpy as np\n",
    "ddd = np.load('testeps/neighborsSorted.npy')"
   ]
  },
  {
   "cell_type": "code",
   "execution_count": 7,
   "metadata": {},
   "outputs": [
    {
     "data": {
      "text/plain": [
       "(1395712,)"
      ]
     },
     "execution_count": 7,
     "metadata": {},
     "output_type": "execute_result"
    }
   ],
   "source": [
    "ddd.shape"
   ]
  },
  {
   "cell_type": "code",
   "execution_count": 15,
   "metadata": {},
   "outputs": [
    {
     "name": "stdout",
     "output_type": "stream",
     "text": [
      "[0.02537813 0.02538194 0.02538194 0.02538455 0.02538455 0.02538572\n",
      " 0.02538572 0.0253871  0.0253871  0.02539073 0.02539073 0.02539289\n",
      " 0.02539289 0.02539413 0.02539413 0.02539472 0.02539472 0.02539658\n",
      " 0.02539658 0.0253969  0.0253969  0.02539859 0.02539859 0.02539984\n",
      " 0.02539984 0.02540116 0.02540116 0.02540514 0.02540514 0.02540719\n",
      " 0.02540719 0.0254073  0.0254073  0.02540966 0.02540966 0.02541363\n",
      " 0.02541363 0.02541413 0.02541413 0.02541431 0.02541431 0.02541479\n",
      " 0.02541479 0.02541703 0.02541703 0.02541781 0.02541781 0.02541822\n",
      " 0.02541822 0.02542124 0.02542124 0.02542239 0.02542239 0.02542547\n",
      " 0.02542547 0.02542716 0.02542751 0.02542751 0.02542884 0.02542884\n",
      " 0.02543022 0.02543022 0.02543068 0.02543068 0.02543103 0.02543103\n",
      " 0.02543348 0.02543348 0.02543381 0.02543381 0.02543463 0.02543897\n",
      " 0.02543924 0.02543924 0.0254398  0.0254398  0.02544223 0.02544431\n",
      " 0.02544431 0.02544759 0.02544759 0.02544826 0.02544826 0.02544959\n",
      " 0.02544959 0.0254501  0.02545058 0.02545058 0.02545229 0.02545229\n",
      " 0.02545512 0.02545512 0.02545908 0.02545908 0.02545922 0.02545922\n",
      " 0.02545934 0.02545934 0.02546079 0.02546079 0.02546196 0.02546196\n",
      " 0.0254631  0.0254631  0.02546373 0.02546373 0.02546995 0.02546995\n",
      " 0.0254709  0.0254709  0.02547407 0.02547407 0.02547489 0.02547489\n",
      " 0.02547627 0.02547627 0.02547783 0.02547783 0.02547904 0.02547904\n",
      " 0.025482   0.025482   0.02548463 0.02548499 0.02548499 0.0254892\n",
      " 0.0254892  0.02548941 0.02548941 0.02548988 0.02548988 0.02549834\n",
      " 0.02549834 0.02550174 0.02550174 0.02550197 0.02550197 0.02550505\n",
      " 0.02550505 0.02550513 0.02550513 0.02550527 0.02550527 0.02550727\n",
      " 0.02550727 0.0255073  0.0255073  0.02550743 0.02550743 0.02550745\n",
      " 0.02550755 0.02550755 0.02550822 0.02550822 0.02550972 0.02550972\n",
      " 0.02551052 0.02551052 0.02551128 0.02551128 0.02551168 0.02551168\n",
      " 0.0255152  0.0255152  0.02551567 0.02551567 0.02551707 0.02551707\n",
      " 0.02552074 0.02552256 0.02552256 0.02552318 0.02552318 0.02552402\n",
      " 0.02552402 0.02552815 0.02552815 0.02553026 0.02553026 0.02553082\n",
      " 0.02553082 0.02553119 0.02553119 0.02553671 0.02553671 0.0255379\n",
      " 0.0255379  0.02553952 0.02553962 0.02554326 0.02554326 0.02554521\n",
      " 0.02554521 0.02554654 0.02554654 0.0255475  0.02554831 0.02554831\n",
      " 0.02554891 0.0255541  0.0255541  0.02555675 0.02555764 0.02555764\n",
      " 0.02555776 0.02555776 0.02555828 0.02555828 0.02555851 0.0255625\n",
      " 0.0255625  0.02556298 0.02556378 0.02556378 0.02557046 0.02557046\n",
      " 0.02557108 0.02557108 0.02557132 0.02557132 0.02557904 0.02557904\n",
      " 0.02557965 0.02557965 0.02558144 0.02558144 0.02558287 0.02558287\n",
      " 0.02558347 0.02558347 0.02558763 0.02558763 0.02558882 0.02558882\n",
      " 0.0255895  0.0255895  0.0255905  0.0255905  0.02559072 0.02559072\n",
      " 0.0255909  0.0255909  0.02559236 0.02559236 0.02559462 0.02559462\n",
      " 0.02559686 0.02559686 0.02559768 0.02559774 0.02559774 0.02559829\n",
      " 0.02559829 0.02559987 0.02559987 0.02560244 0.02560244 0.02560537\n",
      " 0.02560593 0.02560593 0.02560797 0.02560797 0.02561093 0.02561093\n",
      " 0.02561114 0.02561114 0.02561356 0.02561356 0.02561397 0.02561397\n",
      " 0.02561511 0.02561511 0.02562026 0.02562026 0.0256217  0.0256217\n",
      " 0.02562646 0.02562646 0.02563292 0.02563587 0.02563587 0.02563629\n",
      " 0.02563629 0.02564265 0.02564265 0.02564778 0.02564802 0.02564802\n",
      " 0.0256498  0.02565568 0.02565568 0.02565734 0.02565734 0.02565846\n",
      " 0.02565846 0.02565981 0.02565981 0.02566206 0.0256654  0.0256654\n",
      " 0.02566836 0.02566836 0.0256692  0.0256692  0.0256757  0.02567599\n",
      " 0.02567599 0.02567804 0.02567804 0.02567828 0.02567828 0.02567888\n",
      " 0.02567888 0.02567893 0.02567893 0.02567905 0.02567905 0.02568162\n",
      " 0.02568162 0.0256817  0.0256817  0.02568598 0.02568832 0.02568832\n",
      " 0.02568862 0.02568862 0.02569079 0.02569079 0.02569378 0.02569378\n",
      " 0.02569455 0.02569455 0.02569751 0.02569751 0.02569876 0.02569876\n",
      " 0.0256994  0.02570007 0.02570007 0.02570781 0.02570781 0.02570819\n",
      " 0.02570819 0.02571341 0.02571341 0.02572006 0.02572006 0.0257213\n",
      " 0.0257213  0.02572156 0.02572156 0.02572533 0.02572533 0.02572562\n",
      " 0.02572562 0.02572605 0.02572605 0.02572715 0.02572715 0.02573034\n",
      " 0.02573034 0.0257323  0.0257323  0.02573419 0.02573419 0.02573618\n",
      " 0.02573618 0.02573636 0.02573636 0.02573696 0.02573696 0.02573776\n",
      " 0.02573776 0.02574117 0.02574117 0.02574213 0.02574213 0.0257433\n",
      " 0.0257433  0.02574479 0.02574902 0.02574902 0.02575115 0.02575115\n",
      " 0.02575186 0.02575186 0.02575246 0.02575246 0.02575251 0.02575251\n",
      " 0.02575347 0.02575347 0.02575822 0.02575822 0.02575853 0.02575853\n",
      " 0.02576028 0.02576335 0.02576335 0.02576343 0.02576343 0.02576642\n",
      " 0.02576642 0.02576963 0.0257699  0.0257699  0.02577435 0.02577435\n",
      " 0.02577437 0.02577437 0.02577483 0.02577483 0.02577617 0.02577617\n",
      " 0.02578014 0.02578014 0.02578394 0.02578394 0.02578409 0.02578428\n",
      " 0.02578428 0.02578773 0.0257883  0.0257883  0.02579154 0.02579154\n",
      " 0.02579255 0.02579255 0.02579591 0.02579591 0.02579591 0.02579591\n",
      " 0.02579798 0.02580109 0.02580109 0.02580267 0.02580267 0.02580335\n",
      " 0.02580395 0.02580395 0.02580569 0.02580569 0.02580764 0.02580764\n",
      " 0.02581032 0.02581032 0.02581285 0.02581285 0.02581388 0.02581986\n",
      " 0.02581986 0.02582069 0.02582413 0.02582413 0.02582541 0.02582541\n",
      " 0.02582703 0.02583367 0.02583367 0.02583384 0.02583396 0.02583396\n",
      " 0.0258394  0.02584122 0.02584228 0.02584228 0.02584319 0.02584319\n",
      " 0.02584634 0.02584819 0.02584819 0.02584886 0.02584886 0.02585109\n",
      " 0.0258541  0.0258541  0.02585446 0.02585498 0.02585498 0.02585714\n",
      " 0.02585924 0.02586129 0.02586129 0.02586296 0.02586296 0.02586376\n",
      " 0.0258656  0.0258656  0.02586785 0.02586785 0.02586876 0.02586876\n",
      " 0.02587024 0.02587024 0.02587554 0.02587554 0.02587578 0.02587578\n",
      " 0.02588101 0.02588101 0.02588167 0.02588167 0.02588242 0.02588242\n",
      " 0.02588272 0.02588272 0.02588296 0.02588462 0.02588462 0.02588488\n",
      " 0.02588488 0.02588775 0.02588775 0.02588839 0.02588839 0.02589037\n",
      " 0.02589037 0.02589043 0.02589043 0.02589181 0.02589473 0.02589473\n",
      " 0.02589497 0.02589497 0.0259029  0.0259029  0.02590303 0.02590303\n",
      " 0.02590676 0.02590676 0.02590676 0.02590676 0.0259124  0.0259124\n",
      " 0.02591272 0.02591755 0.02591755 0.02591899 0.02591899 0.02592156\n",
      " 0.02592333 0.02592333 0.0259298  0.0259298  0.02593601 0.02593601\n",
      " 0.02593935 0.02593935 0.02593938 0.02593938 0.02594001 0.02594531\n",
      " 0.02594531 0.0259469  0.0259469  0.02594749 0.02594749 0.02594905\n",
      " 0.02594927 0.02594927 0.02594935 0.02594935 0.02595096 0.02595096\n",
      " 0.02595142 0.02595142 0.02595394 0.02595394 0.02595461 0.02595461\n",
      " 0.02595696 0.02595696 0.02595763 0.02595763 0.02596015 0.02596015\n",
      " 0.02596551 0.02596551 0.02596592 0.02596592 0.0259686  0.0259686\n",
      " 0.02596862 0.02596862 0.0259702  0.0259702  0.02597022 0.02597022\n",
      " 0.02597358 0.02597358 0.02597395 0.02597395 0.02597406 0.02597406\n",
      " 0.02597518 0.02597518 0.02597522 0.02597704 0.02597704 0.02597845\n",
      " 0.02597851 0.02597851 0.0259794  0.02598179 0.02598179 0.02598649\n",
      " 0.02598649 0.02598734 0.02598757 0.02598757 0.02598851 0.02598863\n",
      " 0.02598863 0.02598991 0.02598991 0.02599248 0.02599248 0.02599354\n",
      " 0.02599354 0.02599808 0.02599808 0.02599893 0.02599893 0.0260013\n",
      " 0.0260013  0.0260023  0.0260023  0.02600326 0.02600326 0.02600334\n",
      " 0.02600334 0.02600372 0.02600372 0.02600467 0.02600467 0.02600646\n",
      " 0.02600706 0.02600706 0.02600839 0.02600839 0.0260096  0.02601213\n",
      " 0.02601362 0.02601362 0.02601548 0.02601613 0.02601613 0.02601853\n",
      " 0.02601853 0.02602319 0.02602319 0.02602759 0.02602759 0.0260307\n",
      " 0.0260307  0.02603268 0.02603413 0.02603413 0.02603422 0.02603422\n",
      " 0.02603521 0.02603521 0.02603717 0.02603717 0.0260439  0.0260439\n",
      " 0.02604436 0.02605252 0.02605252 0.02605276 0.02605276 0.02605281\n",
      " 0.02605281 0.0260556  0.0260556  0.02605672 0.02605672 0.0260571\n",
      " 0.0260571  0.02605779 0.0260581  0.0260581  0.02606008 0.02606008\n",
      " 0.02606242 0.02606242 0.02606308 0.02606308 0.02606517 0.02607682\n",
      " 0.02607682 0.02607782 0.02607782 0.02607853 0.02607853 0.02608777\n",
      " 0.02608777 0.02609251 0.02609251 0.02609303 0.02609303 0.02609519\n",
      " 0.02609538 0.02609538 0.02609634 0.02609667 0.02609667 0.02609698\n",
      " 0.02609698 0.02609779 0.02609779 0.02609862 0.026102   0.026102\n",
      " 0.02610265 0.02610265 0.0261036  0.0261036  0.02610804 0.02610804\n",
      " 0.02610848 0.02610848 0.02611093 0.0261156  0.0261156  0.02611748\n",
      " 0.02611748 0.02611912 0.02611972 0.02611972 0.02612053 0.02612053\n",
      " 0.02612447 0.02612447 0.02612505 0.02612732 0.02612732 0.02612748\n",
      " 0.02612818 0.02612832 0.02612887 0.02612923 0.0261331  0.0261331\n",
      " 0.02613413 0.02613413 0.02613714 0.02613714 0.0261439  0.0261439\n",
      " 0.02614532 0.02614532 0.02614867 0.02614867 0.02615241 0.02615529\n",
      " 0.02615529 0.02615539 0.02615539 0.02615541 0.02615541 0.0261566\n",
      " 0.0261566  0.02615668 0.02615726 0.02615726 0.02616062 0.02616062\n",
      " 0.02616246 0.02616348 0.02616348 0.02616364 0.02616364 0.02616488\n",
      " 0.02616488 0.02617045 0.02617045 0.02617246 0.02617246 0.02617404\n",
      " 0.02617404 0.02617573 0.02617573 0.02617613 0.02617613 0.02617614\n",
      " 0.02617614 0.02617752 0.02617752 0.02617769 0.02617769 0.02617906\n",
      " 0.02617906 0.02617937 0.02617937 0.02618046 0.02618046 0.0261836\n",
      " 0.0261836  0.02618633 0.02618633 0.0261893  0.0261893  0.02619211\n",
      " 0.02619211 0.02619461 0.02619461 0.02619835 0.02619835 0.02620055\n",
      " 0.02620055 0.02620169 0.02620169 0.0262031  0.02620316 0.02620316\n",
      " 0.02620438 0.02620438 0.02620617 0.02620617 0.02620864 0.02620864\n",
      " 0.02621362 0.02621362 0.02621387 0.02621387 0.02621672 0.02621672\n",
      " 0.02621704 0.02621704 0.02621714 0.02621714 0.02621719 0.02621719\n",
      " 0.02622241 0.02622241 0.02622271 0.02622733 0.02622733 0.02622811\n",
      " 0.02622811 0.02622872 0.02622872 0.02622891 0.02622891 0.02623142\n",
      " 0.02623142 0.02623353 0.02623353 0.02623478 0.02623478 0.02623729\n",
      " 0.02624005 0.02624005 0.02624312 0.02624312 0.02624359 0.02624359\n",
      " 0.02624479 0.02624479 0.02624519 0.0262494  0.0262494  0.02624972\n",
      " 0.02625374 0.02625374 0.02625548 0.02625548 0.02625651 0.02625651\n",
      " 0.02625664 0.02625664 0.02626202 0.02626202 0.02626256 0.02626256\n",
      " 0.02626296 0.02626296 0.0262641  0.02626589 0.02626589 0.02627077\n",
      " 0.02627077 0.02627175 0.02627175 0.02627217 0.02627217 0.02627397\n",
      " 0.02627397 0.02627456 0.02627456 0.02627531 0.02627606 0.02627606\n",
      " 0.02627894 0.02627894 0.02628396 0.02628396 0.02628448 0.02628448\n",
      " 0.02628568 0.02628568 0.02628596 0.02628596 0.02628843 0.02628843\n",
      " 0.0262923  0.0262923  0.02629262 0.02629262 0.02629374 0.02629374\n",
      " 0.02629384 0.02629384 0.02629557 0.02629763 0.02629763 0.02629814\n",
      " 0.02629814 0.02629915 0.02629915 0.02630248 0.02630248 0.02630283\n",
      " 0.02630283 0.02630433 0.02630433 0.02630476 0.02630476 0.02630549\n",
      " 0.02630751 0.02631131 0.02631131 0.02631539 0.02631539 0.02631601\n",
      " 0.02631666 0.02631666 0.02632087 0.02632087 0.02632217 0.02632217\n",
      " 0.02632475 0.02632475 0.02632523 0.02632523 0.02632839 0.02632839\n",
      " 0.02632901 0.02632901 0.02632907 0.02632907 0.02633137 0.0263315\n",
      " 0.0263315  0.02633156 0.02633156 0.02633292 0.02633292 0.02633344\n",
      " 0.02633344 0.02633421 0.02633421 0.0263348  0.0263348  0.02633661\n",
      " 0.02633661 0.02633681 0.02633772 0.02633772 0.02633989 0.02633989\n",
      " 0.02634063 0.02634063 0.02634251 0.02634251 0.02634349 0.02634514\n",
      " 0.02634568 0.02634568 0.02634992 0.02634992 0.02635096 0.02635096\n",
      " 0.0263515  0.0263515  0.02635297 0.02635297 0.02635366 0.02635531\n",
      " 0.02635531 0.02635668 0.02635668 0.02635738 0.02635738 0.02635795\n",
      " 0.02635795 0.02635872 0.02635872 0.02636007]\n"
     ]
    }
   ],
   "source": [
    "print(ddd[1231000:1232000])"
   ]
  },
  {
   "cell_type": "code",
   "execution_count": 17,
   "metadata": {},
   "outputs": [],
   "source": [
    "lbl = np.load('tenmeans.npy')"
   ]
  },
  {
   "cell_type": "code",
   "execution_count": 21,
   "metadata": {},
   "outputs": [],
   "source": [
    "import collections\n",
    "count = collections.Counter(lbl)"
   ]
  },
  {
   "cell_type": "code",
   "execution_count": 29,
   "metadata": {},
   "outputs": [
    {
     "name": "stdout",
     "output_type": "stream",
     "text": [
      "Counter({1: 22091732, 2: 21943840, 3: 14268546, 9: 14188675, 6: 13434275, 5: 13372273, 8: 12870308, 0: 10779745, 4: 3754617, 7: 3747957})\n",
      "22091732\n"
     ]
    }
   ],
   "source": [
    "print(count)\n",
    "d = count[1]\n",
    "print(d)"
   ]
  },
  {
   "cell_type": "code",
   "execution_count": 25,
   "metadata": {},
   "outputs": [],
   "source": [
    "vir = np.array([])\n",
    "vir = np.append(vir, 2)"
   ]
  },
  {
   "cell_type": "code",
   "execution_count": 26,
   "metadata": {},
   "outputs": [
    {
     "data": {
      "text/plain": [
       "array([2.])"
      ]
     },
     "execution_count": 26,
     "metadata": {},
     "output_type": "execute_result"
    }
   ],
   "source": [
    "vir"
   ]
  },
  {
   "cell_type": "code",
   "execution_count": 27,
   "metadata": {},
   "outputs": [
    {
     "data": {
      "text/plain": [
       "array([ 2., 51.])"
      ]
     },
     "execution_count": 27,
     "metadata": {},
     "output_type": "execute_result"
    }
   ],
   "source": [
    "vir = np.append(vir, 51)\n",
    "vir"
   ]
  },
  {
   "cell_type": "code",
   "execution_count": 1,
   "metadata": {},
   "outputs": [],
   "source": [
    "import cudf\n",
    "from cuml.cluster import DBSCAN"
   ]
  },
  {
   "cell_type": "code",
   "execution_count": 31,
   "metadata": {},
   "outputs": [
    {
     "name": "stdout",
     "output_type": "stream",
     "text": [
      "0    0\n",
      "1    0\n",
      "2    1\n",
      "dtype: int32\n"
     ]
    }
   ],
   "source": [
    "# Create and populate a GPU DataFrame\n",
    "gdf_float = cudf.DataFrame()\n",
    "gdf_float['0'] = [1.0, 2.0, 5.0]\n",
    "gdf_float['1'] = [4.0, 2.0, 1.0]\n",
    "gdf_float['2'] = [4.0, 2.0, 1.0]\n",
    "\n",
    "# Setup and fit clusters\n",
    "db = DBSCAN(eps=3.0, min_samples=1).fit_predict(gdf_float)\n",
    "\n",
    "print(db)"
   ]
  },
  {
   "cell_type": "code",
   "execution_count": 35,
   "metadata": {},
   "outputs": [
    {
     "data": {
      "text/plain": [
       "1"
      ]
     },
     "execution_count": 35,
     "metadata": {},
     "output_type": "execute_result"
    }
   ],
   "source": [
    "a = 0\n",
    "for i in range(3):\n",
    "    a += db[i]\n",
    "    \n",
    "a"
   ]
  },
  {
   "cell_type": "code",
   "execution_count": 8,
   "metadata": {},
   "outputs": [
    {
     "ename": "ModuleNotFoundError",
     "evalue": "No module named 'astropy'",
     "output_type": "error",
     "traceback": [
      "\u001b[0;31m---------------------------------------------------------------------------\u001b[0m",
      "\u001b[0;31mModuleNotFoundError\u001b[0m                       Traceback (most recent call last)",
      "\u001b[0;32m<ipython-input-8-e47bd5b3515c>\u001b[0m in \u001b[0;36m<module>\u001b[0;34m\u001b[0m\n\u001b[0;32m----> 1\u001b[0;31m \u001b[0;32mimport\u001b[0m \u001b[0mastropy\u001b[0m\u001b[0;34m\u001b[0m\u001b[0;34m\u001b[0m\u001b[0m\n\u001b[0m",
      "\u001b[0;31mModuleNotFoundError\u001b[0m: No module named 'astropy'"
     ]
    }
   ],
   "source": [
    "import astropy"
   ]
  },
  {
   "cell_type": "code",
   "execution_count": 2,
   "metadata": {},
   "outputs": [
    {
     "data": {
      "text/plain": [
       "22500"
      ]
     },
     "execution_count": 2,
     "metadata": {},
     "output_type": "execute_result"
    }
   ],
   "source": [
    "150*150"
   ]
  },
  {
   "cell_type": "code",
   "execution_count": 5,
   "metadata": {},
   "outputs": [
    {
     "data": {
      "text/plain": [
       "1057500"
      ]
     },
     "execution_count": 5,
     "metadata": {},
     "output_type": "execute_result"
    }
   ],
   "source": [
    "47*22500"
   ]
  },
  {
   "cell_type": "code",
   "execution_count": 2,
   "metadata": {},
   "outputs": [
    {
     "name": "stdout",
     "output_type": "stream",
     "text": [
      "47\n",
      "22620160\n"
     ]
    }
   ],
   "source": [
    "import numpy as np\n",
    "import astropy.io.fits\n",
    "import random\n",
    "import os\n",
    "import os.path\n",
    "from collections import Counter\n",
    "from PIL import Image\n",
    "from sklearn.cluster import KMeans\n",
    "from astropy.time import Time\n",
    "import csv\n",
    "from statistics import stdev\n",
    "from statistics import mean\n",
    "import math\n",
    "from matplotlib import pyplot as plt\n",
    "import pandas as pd\n",
    "from sklearn.metrics import silhouette_samples, silhouette_score\n",
    "import matplotlib.cm as cm\n",
    "import cudf\n",
    "from cuml.cluster import DBSCAN\n",
    "from cuml.cluster import KMeans as cudkmean\n",
    "import timeit\n",
    "\n",
    "\n",
    "\n",
    "# Normalizing between [1,-1]\n",
    "def normal(a):\n",
    "    \n",
    "    aa = a - a.min()\n",
    "    bb = a.max() - a.min()\n",
    "    cc = (2 * aa) / bb\n",
    "    dd = cc - 1\n",
    "    return dd\n",
    "\n",
    "\n",
    "# Unnormal\n",
    "\n",
    "def unnormal(norm, pure):\n",
    "    ee = norm + 1\n",
    "    ff = ee/2\n",
    "    gg = ff * (pure.max() - pure.min())\n",
    "    hh = gg + pure.min()\n",
    "    return hh\n",
    "\n",
    "\n",
    "# Getting Features\n",
    "\n",
    "def getFeatures(Name):\n",
    "    fileData = astropy.io.fits.open(Name)\n",
    "    B = fileData[1].data\n",
    "    B = np.array(B, dtype=np.float64)\n",
    "    Binc = fileData[2].data\n",
    "    Binc = np.array(Binc, dtype=np.float64)\n",
    "    Bazi = fileData[3].data\n",
    "    Bazi = np.array(Bazi, dtype=np.float64)\n",
    "    DopF = fileData[4].data\n",
    "    DopF = np.array(DopF, dtype=np.float64)\n",
    "    #DopS = fileData[5].data\n",
    "    #DopS = np.array(DopS, dtype=np.float64)\n",
    "    SLFF = fileData[12].data\n",
    "    SLFF = np.array(SLFF, dtype=np.float64)\n",
    "    CI = fileData[32].data\n",
    "    CI = np.array(CI, dtype=np.float64)\n",
    "\n",
    "\n",
    "    return B, Binc, Bazi, DopF, SLFF, CI\n",
    "\n",
    "\n",
    "# Removing that effect due to doppler shifts\n",
    "\n",
    "def canNoise(Doppler):\n",
    "    \n",
    "    y = np.mean(Doppler, 0)\n",
    "    x = np.array(range(Doppler.shape[1]))\n",
    "    m, b = np.polyfit(x, y, 1)\n",
    "    v = m*x + b\n",
    "    out = Doppler - v\n",
    "\n",
    "    return out\n",
    "\n",
    "# Normalizing angles\n",
    "\n",
    "def normangle(feature):\n",
    "    \n",
    "    \n",
    "    a = np.cos(np.deg2rad(feature))\n",
    "    \n",
    "    return a\n",
    "      \n",
    "\n",
    "# Making a list for dimensions of observations\n",
    "def dimlist(filenames):\n",
    "    \n",
    "    dimList = list()\n",
    "\n",
    "\n",
    "    for i in NewList:\n",
    "\n",
    "        file = astropy.io.fits.open(i)\n",
    "        x, y = file[1].data.shape\n",
    "        dimList.append((x, y))\n",
    "    \n",
    "    return dimList\n",
    "\n",
    "\n",
    "# Concatenating all the observations\n",
    "\n",
    "def concatfeatures(NewList):\n",
    "\n",
    "    Btot, Binctot, DopFtot, SLFFtot, CItot = np.array([]), np.array([]),np.array([]), np.array([]),np.array([])\n",
    "\n",
    "\n",
    "\n",
    "    for j in NewList:\n",
    "\n",
    "        B, Binc, Bazi, DopF, SLFF, CI = getFeatures(j)\n",
    "        Btot = np.concatenate((Btot, B), axis=None)\n",
    "        Binctot = np.concatenate((Binctot, Binc), axis=None)\n",
    "        DopFtot = np.concatenate((DopFtot, canNoise(DopF)), axis=None)\n",
    "        SLFFtot = np.concatenate((SLFFtot, SLFF), axis=None)\n",
    "        CItot = np.concatenate((CItot, CI), axis=None)\n",
    "    \n",
    "    \n",
    "    return Btot, Binctot, DopFtot, SLFFtot, CItot\n",
    "\n",
    "#Concateraw\n",
    "def conpure(NewList):\n",
    "\n",
    "    Btot, DopFtot, SLFFtot, CItot = np.array([]),np.array([]), np.array([]),np.array([])\n",
    "\n",
    "    for j in NewList:\n",
    "\n",
    "        B, Binc, Bazi, DopF, SLFF, CI = getFeatures(j)\n",
    "        Btot = np.concatenate((Btot, B), axis=None)\n",
    "        DopFtot = np.concatenate((DopFtot, DopF), axis=None)\n",
    "        SLFFtot = np.concatenate((SLFFtot, SLFF), axis=None)\n",
    "        CItot = np.concatenate((CItot, CI), axis=None)\n",
    "    \n",
    "    \n",
    "    return Btot, DopFtot, SLFFtot, CItot\n",
    "\n",
    "\n",
    "# Plot mappings\n",
    "def pltmaps(labels, dimList, k):\n",
    "    \n",
    "    start = 0\n",
    "    end = 0\n",
    "\n",
    "    for s, tple in enumerate(dimList):\n",
    "\n",
    "        end += tple[0] * tple[1]\n",
    "\n",
    "        pltimg(labels[start:end], tple, s)\n",
    "\n",
    "        start = end \n",
    "        \n",
    "def pltimg(labels, tple, s):\n",
    "    \n",
    "    fileData = (NewList[s])\n",
    "    v = fileData[42:-5]\n",
    "    labless = labels.reshape(tple)\n",
    "    plt.figure(figsize=(16,9))\n",
    "    plt.imshow(labless, cmap=\"plasma\", origin=\"bottom\")\n",
    "    plt.colorbar()\n",
    "    plt.savefig(dir+'/'+ v + '.png')\n",
    "    plt.close()\n",
    "    \n",
    "\n",
    "    \n",
    "    \n",
    "    \n",
    "NorthDir='/glade/work/egeland/hinode_synoptic/north'\n",
    "allfiles = [os.path.join(NorthDir, f) for f in sorted(os.listdir(NorthDir))]\n",
    "\n",
    "# Removing all sav files\n",
    "NewList=[item for i,item in enumerate(allfiles) if i%2==0]\n",
    "\n",
    "\n",
    "b = []\n",
    "\n",
    "for item in NewList:\n",
    "    \n",
    "    fileData = astropy.io.fits.open(item)\n",
    "    a = fileData[0].header['YSCALE']\n",
    "    if a > 0.16 :\n",
    "        b.append(item)\n",
    "\n",
    "NewList = []       \n",
    "NewList = b\n",
    "\n",
    "print(len(NewList))\n",
    "\n",
    "\n",
    "dimList = dimlist(NewList)\n",
    "\n",
    "Btot, Binctot, DopFtot, SLFFtot, CItot = concatfeatures(NewList)\n",
    "\n",
    "for it, item in enumerate(Btot):\n",
    "    \n",
    "    if item < 200:\n",
    "        \n",
    "        Btot[it] = 0\n",
    "        Binctot[it] = 90\n",
    "        SLFFtot[it] = 0\n",
    "        \n",
    "    elif item > 2000:\n",
    "        \n",
    "        Btot[it] = 2000\n",
    "print(len(Btot))\n",
    "\n",
    "\n",
    "\n",
    "# Normalizing Features\n",
    "Btotn = normal(Btot)\n",
    "Binctotn = normangle(Binctot)\n",
    "DopFtotn = normal(DopFtot)\n",
    "SLFFtotn = normal(SLFFtot)\n",
    "CItotn = normal(CItot)\n",
    "\n",
    "da = np.array([Btotn, Binctotn, DopFtotn, SLFFtotn, CItotn])\n",
    "fda = np.transpose(da)"
   ]
  },
  {
   "cell_type": "code",
   "execution_count": 7,
   "metadata": {},
   "outputs": [
    {
     "name": "stdout",
     "output_type": "stream",
     "text": [
      "Time:  850.0793396048248\n"
     ]
    }
   ],
   "source": [
    "fdda = fda[:1000000,]\n",
    "X_df = pd.DataFrame({'fea%d'%i: fda[:1000000, i] for i in range(fda.shape[1])})\n",
    "cudf.set_allocator(\"managed\")\n",
    "X_gpu = cudf.DataFrame.from_pandas(X_df)\n",
    "start = timeit.default_timer()\n",
    "db = DBSCAN(eps=0.4, min_samples=1000).fit(X_df)\n",
    "stop = timeit.default_timer()\n",
    "print('Time: ', stop - start)"
   ]
  },
  {
   "cell_type": "code",
   "execution_count": 8,
   "metadata": {},
   "outputs": [
    {
     "name": "stdout",
     "output_type": "stream",
     "text": [
      "0.8154241498066191\n",
      "Time:  20230.682939294726\n"
     ]
    }
   ],
   "source": [
    "start = timeit.default_timer()\n",
    "cluster_labels = db.labels_\n",
    "silhouette_avg = silhouette_score(fdda, cluster_labels)\n",
    "print(silhouette_avg)\n",
    "stop = timeit.default_timer()\n",
    "print('Time: ', stop - start)"
   ]
  },
  {
   "cell_type": "code",
   "execution_count": null,
   "metadata": {},
   "outputs": [],
   "source": []
  }
 ],
 "metadata": {
  "kernelspec": {
   "display_name": "Python 3",
   "language": "python",
   "name": "python3"
  },
  "language_info": {
   "codemirror_mode": {
    "name": "ipython",
    "version": 3
   },
   "file_extension": ".py",
   "mimetype": "text/x-python",
   "name": "python",
   "nbconvert_exporter": "python",
   "pygments_lexer": "ipython3",
   "version": "3.6.10"
  }
 },
 "nbformat": 4,
 "nbformat_minor": 4
}
