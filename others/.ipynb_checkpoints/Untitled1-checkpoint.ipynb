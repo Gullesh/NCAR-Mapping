{
 "cells": [
  {
   "cell_type": "code",
   "execution_count": 7,
   "metadata": {},
   "outputs": [],
   "source": [
    "import numpy as np\n",
    "import astropy.io.fits\n",
    "import random\n",
    "import os\n",
    "import os.path\n",
    "from collections import Counter\n",
    "from PIL import Image\n",
    "from sklearn.cluster import KMeans\n",
    "from astropy.time import Time\n",
    "import csv\n",
    "from statistics import stdev\n",
    "from statistics import mean\n",
    "import math\n",
    "from matplotlib import pyplot as plt\n",
    "import pandas as pd\n",
    "from sklearn.metrics import silhouette_samples, silhouette_score\n",
    "import matplotlib.cm as cm\n",
    "import cudf\n",
    "from cuml.cluster import DBSCAN\n",
    "from cuml.cluster import KMeans as cudkmean\n",
    "import timeit"
   ]
  },
  {
   "cell_type": "code",
   "execution_count": 2,
   "metadata": {},
   "outputs": [],
   "source": [
    "# Normalizing between [1,-1]\n",
    "def normal(a):\n",
    "    \n",
    "    aa = a - a.min()\n",
    "    bb = a.max() - a.min()\n",
    "    cc = (2 * aa) / bb\n",
    "    dd = cc - 1\n",
    "    return dd\n",
    "\n",
    "\n",
    "# Unnormal\n",
    "\n",
    "def unnormal(norm, pure):\n",
    "    ee = norm + 1\n",
    "    ff = ee/2\n",
    "    gg = ff * (pure.max() - pure.min())\n",
    "    hh = gg + pure.min()\n",
    "    return hh\n",
    "\n",
    "\n",
    "# Getting Features\n",
    "\n",
    "def getFeatures(Name):\n",
    "    fileData = astropy.io.fits.open(Name)\n",
    "    B = fileData[1].data\n",
    "    B = np.array(B, dtype=np.float64)\n",
    "    Binc = fileData[2].data\n",
    "    Binc = np.array(Binc, dtype=np.float64)\n",
    "    Bazi = fileData[3].data\n",
    "    Bazi = np.array(Bazi, dtype=np.float64)\n",
    "    DopF = fileData[4].data\n",
    "    DopF = np.array(DopF, dtype=np.float64)\n",
    "    #DopS = fileData[5].data\n",
    "    #DopS = np.array(DopS, dtype=np.float64)\n",
    "    SLFF = fileData[12].data\n",
    "    SLFF = np.array(SLFF, dtype=np.float64)\n",
    "    CI = fileData[32].data\n",
    "    CI = np.array(CI, dtype=np.float64)\n",
    "\n",
    "\n",
    "    return B, Binc, Bazi, DopF, SLFF, CI\n",
    "\n",
    "\n",
    "# Removing that effect due to doppler shifts\n",
    "\n",
    "def canNoise(Doppler):\n",
    "    \n",
    "    y = np.mean(Doppler, 0)\n",
    "    x = np.array(range(Doppler.shape[1]))\n",
    "    m, b = np.polyfit(x, y, 1)\n",
    "    v = m*x + b\n",
    "    out = Doppler - v\n",
    "\n",
    "    return out\n",
    "\n",
    "# Normalizing angles\n",
    "\n",
    "def normangle(feature):\n",
    "    \n",
    "    \n",
    "    a = np.cos(np.deg2rad(feature))\n",
    "    \n",
    "    return a\n",
    "      \n",
    "\n",
    "# Making a list for dimensions of observations\n",
    "def dimlist(filenames):\n",
    "    \n",
    "    dimList = list()\n",
    "\n",
    "\n",
    "    for i in NewList:\n",
    "\n",
    "        file = astropy.io.fits.open(i)\n",
    "        x, y = file[1].data.shape\n",
    "        dimList.append((x, y))\n",
    "    \n",
    "    return dimList\n",
    "\n",
    "\n",
    "# Concatenating all the observations\n",
    "\n",
    "def concatfeatures(NewList):\n",
    "\n",
    "    Btot, Binctot, DopFtot, SLFFtot, CItot = np.array([]), np.array([]),np.array([]), np.array([]),np.array([])\n",
    "\n",
    "\n",
    "\n",
    "    for j in NewList:\n",
    "\n",
    "        B, Binc, Bazi, DopF, SLFF, CI = getFeatures(j)\n",
    "        Btot = np.concatenate((Btot, B), axis=None)\n",
    "        Binctot = np.concatenate((Binctot, Binc), axis=None)\n",
    "        DopFtot = np.concatenate((DopFtot, canNoise(DopF)), axis=None)\n",
    "        SLFFtot = np.concatenate((SLFFtot, SLFF), axis=None)\n",
    "        CItot = np.concatenate((CItot, CI), axis=None)\n",
    "    \n",
    "    \n",
    "    return Btot, Binctot, DopFtot, SLFFtot, CItot\n",
    "\n",
    "#Concateraw\n",
    "def conpure(NewList):\n",
    "\n",
    "    Btot, DopFtot, SLFFtot, CItot = np.array([]),np.array([]), np.array([]),np.array([])\n",
    "\n",
    "    for j in NewList:\n",
    "\n",
    "        B, Binc, Bazi, DopF, SLFF, CI = getFeatures(j)\n",
    "        Btot = np.concatenate((Btot, B), axis=None)\n",
    "        DopFtot = np.concatenate((DopFtot, DopF), axis=None)\n",
    "        SLFFtot = np.concatenate((SLFFtot, SLFF), axis=None)\n",
    "        CItot = np.concatenate((CItot, CI), axis=None)\n",
    "    \n",
    "    \n",
    "    return Btot, DopFtot, SLFFtot, CItot\n",
    "\n",
    "\n",
    "# Plot mappings\n",
    "def pltmaps(labels, dimList, k):\n",
    "    \n",
    "    start = 0\n",
    "    end = 0\n",
    "\n",
    "    for s, tple in enumerate(dimList):\n",
    "\n",
    "        end += tple[0] * tple[1]\n",
    "\n",
    "        pltimg(labels[start:end], tple, s)\n",
    "\n",
    "        start = end \n",
    "        \n",
    "def pltimg(labels, tple, s):\n",
    "    \n",
    "    fileData = (NewList[s])\n",
    "    v = fileData[42:-5]\n",
    "    labless = labels.reshape(tple)\n",
    "    plt.figure(figsize=(16,9))\n",
    "    plt.imshow(labless, cmap=\"plasma\", origin=\"bottom\")\n",
    "    plt.colorbar()\n",
    "    plt.savefig(dir+'/'+ v + '.png')\n",
    "    plt.close()\n",
    "    "
   ]
  },
  {
   "cell_type": "code",
   "execution_count": 3,
   "metadata": {},
   "outputs": [
    {
     "name": "stdout",
     "output_type": "stream",
     "text": [
      "47\n"
     ]
    }
   ],
   "source": [
    "NorthDir='/glade/work/egeland/hinode_synoptic/north'\n",
    "allfiles = [os.path.join(NorthDir, f) for f in sorted(os.listdir(NorthDir))]\n",
    "\n",
    "# Removing all sav files\n",
    "NewList=[item for i,item in enumerate(allfiles) if i%2==0]\n",
    "\n",
    "\n",
    "b = []\n",
    "\n",
    "for item in NewList:\n",
    "    \n",
    "    fileData = astropy.io.fits.open(item)\n",
    "    a = fileData[0].header['YSCALE']\n",
    "    if a > 0.16 :\n",
    "        b.append(item)\n",
    "\n",
    "NewList = []       \n",
    "NewList = b\n",
    "\n",
    "print(len(NewList))"
   ]
  },
  {
   "cell_type": "code",
   "execution_count": 4,
   "metadata": {},
   "outputs": [
    {
     "name": "stdout",
     "output_type": "stream",
     "text": [
      "22620160\n"
     ]
    }
   ],
   "source": [
    "dimList = dimlist(NewList)\n",
    "\n",
    "Btot, Binctot, DopFtot, SLFFtot, CItot = concatfeatures(NewList)\n",
    "\n",
    "for it, item in enumerate(Btot):\n",
    "    \n",
    "    if item < 200:\n",
    "        \n",
    "        Btot[it] = 0\n",
    "        Binctot[it] = 90\n",
    "        SLFFtot[it] = 0\n",
    "        \n",
    "    elif item > 2000:\n",
    "        \n",
    "        Btot[it] = 2000\n",
    "print(len(Btot))"
   ]
  },
  {
   "cell_type": "code",
   "execution_count": 5,
   "metadata": {},
   "outputs": [],
   "source": [
    "\n",
    "# Normalizing Features\n",
    "Btotn = normal(Btot)\n",
    "Binctotn = normangle(Binctot)\n",
    "DopFtotn = normal(DopFtot)\n",
    "SLFFtotn = normal(SLFFtot)\n",
    "CItotn = normal(CItot)\n",
    "\n",
    "da = np.array([Btotn, Binctotn, DopFtotn, SLFFtotn, CItotn])\n",
    "fda = np.transpose(da)\n"
   ]
  },
  {
   "cell_type": "code",
   "execution_count": 41,
   "metadata": {},
   "outputs": [
    {
     "name": "stderr",
     "output_type": "stream",
     "text": [
      "/glade/u/home/mnourela/miniconda3/envs/myenv/lib/python3.6/site-packages/sklearn/cluster/_kmeans.py:974: FutureWarning: 'n_jobs' was deprecated in version 0.23 and will be removed in 0.25.\n",
      "  \" removed in 0.25.\", FutureWarning)\n"
     ]
    },
    {
     "name": "stdout",
     "output_type": "stream",
     "text": [
      "Time:  0.6345811113715172\n"
     ]
    }
   ],
   "source": [
    "# Clustering\n",
    "import timeit\n",
    "\n",
    "start = timeit.default_timer()\n",
    "\n",
    "k= 5\n",
    "gak_km = KMeans(n_clusters=k, n_jobs=2).fit(fda[:100000,])\n",
    "\n",
    "stop = timeit.default_timer()\n",
    "\n",
    "print('Time: ', stop - start) "
   ]
  },
  {
   "cell_type": "code",
   "execution_count": 8,
   "metadata": {},
   "outputs": [
    {
     "name": "stdout",
     "output_type": "stream",
     "text": [
      "Time:  20.990663342177868\n",
      "5\n"
     ]
    }
   ],
   "source": [
    "start = timeit.default_timer()\n",
    "\n",
    "cud = cudkmean(n_clusters = 50).fit_predict(fda)\n",
    "\n",
    "stop = timeit.default_timer()\n",
    "\n",
    "print('Time: ', stop - start) \n",
    "print(fda.shape[1])"
   ]
  },
  {
   "cell_type": "code",
   "execution_count": 2,
   "metadata": {},
   "outputs": [
    {
     "ename": "NameError",
     "evalue": "name 'fda' is not defined",
     "output_type": "error",
     "traceback": [
      "\u001b[0;31m---------------------------------------------------------------------------\u001b[0m",
      "\u001b[0;31mNameError\u001b[0m                                 Traceback (most recent call last)",
      "\u001b[0;32m<ipython-input-2-2a42315cb2f8>\u001b[0m in \u001b[0;36m<module>\u001b[0;34m\u001b[0m\n\u001b[0;32m----> 1\u001b[0;31m \u001b[0mfdda\u001b[0m \u001b[0;34m=\u001b[0m \u001b[0mfda\u001b[0m\u001b[0;34m[\u001b[0m\u001b[0;34m:\u001b[0m\u001b[0;36m100000\u001b[0m\u001b[0;34m,\u001b[0m\u001b[0;34m]\u001b[0m\u001b[0;34m\u001b[0m\u001b[0;34m\u001b[0m\u001b[0m\n\u001b[0m\u001b[1;32m      2\u001b[0m \u001b[0mX_df\u001b[0m \u001b[0;34m=\u001b[0m \u001b[0mpd\u001b[0m\u001b[0;34m.\u001b[0m\u001b[0mDataFrame\u001b[0m\u001b[0;34m(\u001b[0m\u001b[0;34m{\u001b[0m\u001b[0;34m'fea%d'\u001b[0m\u001b[0;34m%\u001b[0m\u001b[0mi\u001b[0m\u001b[0;34m:\u001b[0m \u001b[0mfda\u001b[0m\u001b[0;34m[\u001b[0m\u001b[0;34m:\u001b[0m\u001b[0;36m100000\u001b[0m\u001b[0;34m,\u001b[0m \u001b[0mi\u001b[0m\u001b[0;34m]\u001b[0m \u001b[0;32mfor\u001b[0m \u001b[0mi\u001b[0m \u001b[0;32min\u001b[0m \u001b[0mrange\u001b[0m\u001b[0;34m(\u001b[0m\u001b[0mfda\u001b[0m\u001b[0;34m.\u001b[0m\u001b[0mshape\u001b[0m\u001b[0;34m[\u001b[0m\u001b[0;36m1\u001b[0m\u001b[0;34m]\u001b[0m\u001b[0;34m)\u001b[0m\u001b[0;34m}\u001b[0m\u001b[0;34m)\u001b[0m\u001b[0;34m\u001b[0m\u001b[0;34m\u001b[0m\u001b[0m\n\u001b[1;32m      3\u001b[0m \u001b[0mX_gpu\u001b[0m \u001b[0;34m=\u001b[0m \u001b[0mcudf\u001b[0m\u001b[0;34m.\u001b[0m\u001b[0mDataFrame\u001b[0m\u001b[0;34m.\u001b[0m\u001b[0mfrom_pandas\u001b[0m\u001b[0;34m(\u001b[0m\u001b[0mX_df\u001b[0m\u001b[0;34m)\u001b[0m\u001b[0;34m\u001b[0m\u001b[0;34m\u001b[0m\u001b[0m\n\u001b[1;32m      4\u001b[0m \u001b[0mstart\u001b[0m \u001b[0;34m=\u001b[0m \u001b[0mtimeit\u001b[0m\u001b[0;34m.\u001b[0m\u001b[0mdefault_timer\u001b[0m\u001b[0;34m(\u001b[0m\u001b[0;34m)\u001b[0m\u001b[0;34m\u001b[0m\u001b[0;34m\u001b[0m\u001b[0m\n\u001b[1;32m      5\u001b[0m \u001b[0mdb\u001b[0m \u001b[0;34m=\u001b[0m \u001b[0mDBSCAN\u001b[0m\u001b[0;34m(\u001b[0m\u001b[0meps\u001b[0m\u001b[0;34m=\u001b[0m\u001b[0;36m0.4\u001b[0m\u001b[0;34m,\u001b[0m \u001b[0mmin_samples\u001b[0m\u001b[0;34m=\u001b[0m\u001b[0;36m1000\u001b[0m\u001b[0;34m)\u001b[0m\u001b[0;34m.\u001b[0m\u001b[0mfit\u001b[0m\u001b[0;34m(\u001b[0m\u001b[0mfdda\u001b[0m\u001b[0;34m)\u001b[0m\u001b[0;34m\u001b[0m\u001b[0;34m\u001b[0m\u001b[0m\n",
      "\u001b[0;31mNameError\u001b[0m: name 'fda' is not defined"
     ]
    }
   ],
   "source": [
    "fdda = fda[:100000,]\n",
    "X_df = pd.DataFrame({'fea%d'%i: fda[:100000, i] for i in range(fda.shape[1])})\n",
    "X_gpu = cudf.DataFrame.from_pandas(X_df)\n",
    "start = timeit.default_timer()\n",
    "db = DBSCAN(eps=0.4, min_samples=1000).fit(fdda)\n",
    "stop = timeit.default_timer()\n",
    "print('Time: ', stop - start)"
   ]
  },
  {
   "cell_type": "code",
   "execution_count": 38,
   "metadata": {},
   "outputs": [],
   "source": [
    "start = timeit.default_timer()\n",
    "cluster_labels = db.labels_\n",
    "silhouette_avg = silhouette_score(fdda, cluster_labels)\n",
    "print(silhouette_avg)\n",
    "stop = timeit.default_timer()\n",
    "print('Time: ', stop - start)"
   ]
  },
  {
   "cell_type": "code",
   "execution_count": 1,
   "metadata": {},
   "outputs": [
    {
     "ename": "NameError",
     "evalue": "name 'silhouette_avg' is not defined",
     "output_type": "error",
     "traceback": [
      "\u001b[0;31m---------------------------------------------------------------------------\u001b[0m",
      "\u001b[0;31mNameError\u001b[0m                                 Traceback (most recent call last)",
      "\u001b[0;32m<ipython-input-1-ca8769ca348b>\u001b[0m in \u001b[0;36m<module>\u001b[0;34m\u001b[0m\n\u001b[0;32m----> 1\u001b[0;31m \u001b[0msilhouette_avg\u001b[0m\u001b[0;34m\u001b[0m\u001b[0;34m\u001b[0m\u001b[0m\n\u001b[0m",
      "\u001b[0;31mNameError\u001b[0m: name 'silhouette_avg' is not defined"
     ]
    }
   ],
   "source": [
    "silhouette_avg"
   ]
  },
  {
   "cell_type": "code",
   "execution_count": null,
   "metadata": {},
   "outputs": [],
   "source": [
    "from sklearn.cluster import DBSCAN as ddb\n",
    "start = timeit.default_timer()\n",
    "m = ddb(eps=0.4, min_samples=10)\n",
    "m.fit(fda[:1000000,])\n",
    "stop = timeit.default_timer()\n",
    "print('Time: ', stop - start)"
   ]
  },
  {
   "cell_type": "code",
   "execution_count": 18,
   "metadata": {},
   "outputs": [
    {
     "name": "stdout",
     "output_type": "stream",
     "text": [
      "               0       1       2        3        4\n",
      "0         106314  586971  667575     1972      986\n",
      "1              1    1973     987  1017942   480592\n",
      "2         921980       2     988     1974  1060657\n",
      "3            989       3    1975   644219   895385\n",
      "4         274911  625067  689117     1976   230914\n",
      "...          ...     ...     ...      ...      ...\n",
      "1199995   700977  776776  861212   501355   909769\n",
      "1199996   702123  882425  866940   487961   502823\n",
      "1199997  1199997  412689  243735   781484   451727\n",
      "1199998  1199998  371036  681455   255570   985389\n",
      "1199999   823207  858122  526678   401438   639948\n",
      "\n",
      "[1200000 rows x 5 columns]\n",
      "           0         1         2         3         4\n",
      "0        0.0  0.000000  0.000000  0.000000  0.000000\n",
      "1        0.0  0.000000  0.000000  0.000000  0.000000\n",
      "2        0.0  0.000000  0.000000  0.000000  0.000488\n",
      "3        0.0  0.000000  0.000000  0.000691  0.000691\n",
      "4        0.0  0.000000  0.000000  0.000000  0.000000\n",
      "...      ...       ...       ...       ...       ...\n",
      "1199995  0.0  0.000000  0.000000  0.000000  0.000000\n",
      "1199996  0.0  0.000000  0.000000  0.000000  0.000000\n",
      "1199997  0.0  0.005349  0.006234  0.007421  0.007767\n",
      "1199998  0.0  0.000000  0.000691  0.000691  0.000691\n",
      "1199999  0.0  0.000000  0.000000  0.000000  0.000000\n",
      "\n",
      "[1200000 rows x 5 columns]\n"
     ]
    }
   ],
   "source": [
    "df = fda[:1200000,]\n",
    "import cudf\n",
    "from cuml.neighbors import NearestNeighbors\n",
    "\n",
    "\n",
    "\n",
    "# build a cudf Dataframe\n",
    "X_cudf = cudf.DataFrame.from_gpu_matrix(df)\n",
    "\n",
    "# fit model\n",
    "model = NearestNeighbors(n_neighbors=5)\n",
    "model.fit(df)\n",
    "\n",
    "# get 3 nearest neighbors\n",
    "distances, indices = model.kneighbors(X_cudf)\n",
    "\n",
    "# print results\n",
    "print(indices)\n",
    "print(distances)"
   ]
  },
  {
   "cell_type": "code",
   "execution_count": 81,
   "metadata": {},
   "outputs": [
    {
     "name": "stdout",
     "output_type": "stream",
     "text": [
      "Counter({2.0: 10594677, 1.0: 8984212, 3.0: 1711305, 5.0: 675460, 4.0: 654506})\n",
      "[ 8984212. 10594677.  1711305.   654506.   675460.]\n",
      "inertia:  737209.5729666778\n"
     ]
    }
   ],
   "source": [
    "dir = \"cluster\"+ str(k)\n",
    "os.mkdir(dir)\n",
    "\n",
    "labels = gak_km.labels_\n",
    "centers = gak_km.cluster_centers_\n",
    "cn = np.transpose(centers)\n",
    "\n",
    "cn[cn < -1] = -1\n",
    "cn[cn > 1] = 1\n",
    "\n",
    "clcode = np.array(range(k))\n",
    "Bn = unnormal(cn[0], Btot)\n",
    "Bincn = np.degrees(np.arccos(cn[1]))\n",
    "DopFn = unnormal(cn[2], DopFtot)\n",
    "SLFFn = unnormal(cn[3], SLFFtot)\n",
    "CIn = unnormal(cn[4], CItot)\n",
    "\n",
    "cntrs = np.transpose(np.array([clcode, Bn, Bincn, DopFn, SLFFn, CIn]))\n",
    "\n",
    "\n",
    "\n",
    "\n",
    "\n",
    "vv = cntrs[cntrs[:,1].argsort()]\n",
    "neworder = np.array(range(1, k+1)).reshape(k,1)\n",
    "\n",
    "\n",
    "cntrs = np.append(neworder, vv, axis = 1)\n",
    "\n",
    "\n",
    "\n",
    "\n",
    "nwordr = vv[:,0]\n",
    "\n",
    "gg = 1000\n",
    "for ff in nwordr:\n",
    "    labels[labels==ff] = gg\n",
    "    gg += 1000\n",
    "\n",
    "labels = labels/1000\n",
    "\n",
    "\n",
    "count = collections.Counter(labels)\n",
    "print(count)\n",
    "mmbr = np.array([])\n",
    "\n",
    "for i in range(1,k+1):\n",
    "    mmbr = np.append(mmbr, count[i])\n",
    "    \n",
    "    \n",
    "print(mmbr)\n",
    "mmbr = mmbr.reshape(k, 1)\n",
    "cntrs = np.append(mmbr, cntrs,axis = 1)\n",
    "\n",
    "\n",
    "fields = ['membership', 'neworder', 'clcode', 'B', 'Binc', 'DopF', 'SLFF', 'CI']  \n",
    "\n",
    "# data rows of csv file  \n",
    "rows =  cntrs\n",
    "\n",
    "# name of csv file  \n",
    "filename = dir + \"/\"+ \"cluterTable.csv\"\n",
    "\n",
    "with open(filename, 'w') as csvfile:  \n",
    "            # creating a csv writer object  \n",
    "    csvwriter = csv.writer(csvfile)  \n",
    "\n",
    "            # writing the fields  \n",
    "    csvwriter.writerow(fields)  \n",
    "\n",
    "            # writing the data rows  \n",
    "    csvwriter.writerows(rows)\n",
    "            \n",
    "            \n",
    "            \n",
    "print('inertia: ', gak_km.inertia_)\n",
    "\n",
    "pltmaps(labels, dimList, k)"
   ]
  },
  {
   "cell_type": "code",
   "execution_count": 73,
   "metadata": {},
   "outputs": [
    {
     "ename": "NameError",
     "evalue": "name 'newordr' is not defined",
     "output_type": "error",
     "traceback": [
      "\u001b[0;31m---------------------------------------------------------------------------\u001b[0m",
      "\u001b[0;31mNameError\u001b[0m                                 Traceback (most recent call last)",
      "\u001b[0;32m<ipython-input-73-3605e15c1be3>\u001b[0m in \u001b[0;36m<module>\u001b[0;34m\u001b[0m\n\u001b[0;32m----> 1\u001b[0;31m \u001b[0mcount\u001b[0m \u001b[0;34m=\u001b[0m \u001b[0mcollections\u001b[0m\u001b[0;34m.\u001b[0m\u001b[0mCounter\u001b[0m\u001b[0;34m(\u001b[0m\u001b[0mnewordr\u001b[0m\u001b[0;34m)\u001b[0m\u001b[0;34m\u001b[0m\u001b[0;34m\u001b[0m\u001b[0m\n\u001b[0m\u001b[1;32m      2\u001b[0m \u001b[0mprint\u001b[0m\u001b[0;34m(\u001b[0m\u001b[0mcount\u001b[0m\u001b[0;34m)\u001b[0m\u001b[0;34m\u001b[0m\u001b[0;34m\u001b[0m\u001b[0m\n",
      "\u001b[0;31mNameError\u001b[0m: name 'newordr' is not defined"
     ]
    }
   ],
   "source": [
    "\n",
    "    "
   ]
  },
  {
   "cell_type": "code",
   "execution_count": null,
   "metadata": {},
   "outputs": [],
   "source": [
    "cluster_labels = gak_km.labels_\n",
    "silhouette_avg = silhouette_score(fda, cluster_labels)\n",
    "print(silhouette_avg)"
   ]
  },
  {
   "cell_type": "code",
   "execution_count": null,
   "metadata": {},
   "outputs": [],
   "source": [
    "sample_silhouette_values = silhouette_samples(fda, cluster_labels)\n",
    "ylower = 10"
   ]
  },
  {
   "cell_type": "code",
   "execution_count": null,
   "metadata": {},
   "outputs": [],
   "source": [
    "fig, (ax1, ax2) = plt.subplots(1, 2)\n",
    "plt.figure(figsize=(9,7))\n",
    "for i in range(k):\n",
    "    # Aggregate the silhouette scores for samples belonging to\n",
    "    # cluster i, and sort them\n",
    "    ith_cluster_silhouette_values = sample_silhouette_values[cluster_labels == i]\n",
    "\n",
    "    ith_cluster_silhouette_values.sort()\n",
    "\n",
    "    size_cluster_i = ith_cluster_silhouette_values.shape[0]\n",
    "    y_upper = y_lower + size_cluster_i\n",
    "\n",
    "    color = cm.nipy_spectral(float(i) / k)\n",
    "    ax1.fill_betweenx(np.arange(y_lower, y_upper),\n",
    "                      0, ith_cluster_silhouette_values,\n",
    "                      facecolor=color, edgecolor=color, alpha=0.7)\n",
    "\n",
    "    # Label the silhouette plots with their cluster numbers at the middle\n",
    "    ax1.text(-0.05, y_lower + 0.5 * size_cluster_i, str(i))\n",
    "\n",
    "    # Compute the new y_lower for next plot\n",
    "    y_lower = y_upper + 10  # 10 for the 0 samples\n",
    "\n",
    "ax1.set_title(\"The silhouette plot for the various clusters.\")\n",
    "ax1.set_xlabel(\"The silhouette coefficient values\")\n",
    "ax1.set_ylabel(\"Cluster label\")\n",
    "\n",
    "# The vertical line for average silhouette score of all the values\n",
    "ax1.axvline(x=silhouette_avg, color=\"red\", linestyle=\"--\")\n",
    "\n",
    "ax1.set_yticks([])  # Clear the yaxis labels / ticks\n",
    "ax1.set_xticks([-1, -0.5, 0, 0.2, 0.4, 0.6, 0.8, 1])\n",
    "plt.show()\n",
    "plt.savefig(dir+'/'+ str(k) + '.png')\n"
   ]
  },
  {
   "cell_type": "code",
   "execution_count": 117,
   "metadata": {},
   "outputs": [],
   "source": [
    "import collections\n",
    "print(\"Original List : \", labels)\n",
    "ctr = collections.Counter(labels)\n",
    "print(ctr)"
   ]
  },
  {
   "cell_type": "code",
   "execution_count": 177,
   "metadata": {},
   "outputs": [
    {
     "name": "stdout",
     "output_type": "stream",
     "text": [
      "1.0\n"
     ]
    }
   ],
   "source": [
    "print(SLFFp.max())\n"
   ]
  },
  {
   "cell_type": "code",
   "execution_count": 150,
   "metadata": {},
   "outputs": [
    {
     "data": {
      "image/png": "[encoded data removed]",
      "text/plain": [
       "<Figure size 648x504 with 1 Axes>"
      ]
     },
     "metadata": {
      "needs_background": "light"
     },
     "output_type": "display_data"
    }
   ],
   "source": [
    "labless = labels[0:100].reshape(10, 10)\n",
    "plt.figure(figsize=(9,7))\n",
    "plt.imshow(labless, cmap=\"Reds\", origin = \"bottom\")\n",
    "plt.savefig(\"ehe.png\")"
   ]
  },
  {
   "cell_type": "code",
   "execution_count": 53,
   "metadata": {},
   "outputs": [],
   "source": [
    "c = np.array(range(12))\n",
    "for i in range(5):\n",
    "    dir = \"cluster\"+ str(i)\n",
    "    os.mkdir(dir)"
   ]
  },
  {
   "cell_type": "code",
   "execution_count": 45,
   "metadata": {},
   "outputs": [
    {
     "ename": "FileNotFoundError",
     "evalue": "[Errno 2] No such file or directory: '/test/test.npy'",
     "output_type": "error",
     "traceback": [
      "\u001b[0;31m---------------------------------------------------------------------------\u001b[0m",
      "\u001b[0;31mFileNotFoundError\u001b[0m                         Traceback (most recent call last)",
      "\u001b[0;32m<ipython-input-45-9d78fa797e87>\u001b[0m in \u001b[0;36m<module>\u001b[0;34m\u001b[0m\n\u001b[0;32m----> 1\u001b[0;31m \u001b[0mnp\u001b[0m\u001b[0;34m.\u001b[0m\u001b[0msave\u001b[0m\u001b[0;34m(\u001b[0m\u001b[0;34m'/test/test.npy'\u001b[0m\u001b[0;34m,\u001b[0m \u001b[0mc\u001b[0m\u001b[0;34m)\u001b[0m\u001b[0;34m\u001b[0m\u001b[0;34m\u001b[0m\u001b[0m\n\u001b[0m",
      "\u001b[0;32m<__array_function__ internals>\u001b[0m in \u001b[0;36msave\u001b[0;34m(*args, **kwargs)\u001b[0m\n",
      "\u001b[0;32m/glade/work/mnourela/mynpl/lib/python3.6/site-packages/numpy/lib/npyio.py\u001b[0m in \u001b[0;36msave\u001b[0;34m(file, arr, allow_pickle, fix_imports)\u001b[0m\n\u001b[1;32m    539\u001b[0m         \u001b[0;32mif\u001b[0m \u001b[0;32mnot\u001b[0m \u001b[0mfile\u001b[0m\u001b[0;34m.\u001b[0m\u001b[0mendswith\u001b[0m\u001b[0;34m(\u001b[0m\u001b[0;34m'.npy'\u001b[0m\u001b[0;34m)\u001b[0m\u001b[0;34m:\u001b[0m\u001b[0;34m\u001b[0m\u001b[0;34m\u001b[0m\u001b[0m\n\u001b[1;32m    540\u001b[0m             \u001b[0mfile\u001b[0m \u001b[0;34m=\u001b[0m \u001b[0mfile\u001b[0m \u001b[0;34m+\u001b[0m \u001b[0;34m'.npy'\u001b[0m\u001b[0;34m\u001b[0m\u001b[0;34m\u001b[0m\u001b[0m\n\u001b[0;32m--> 541\u001b[0;31m         \u001b[0mfid\u001b[0m \u001b[0;34m=\u001b[0m \u001b[0mopen\u001b[0m\u001b[0;34m(\u001b[0m\u001b[0mfile\u001b[0m\u001b[0;34m,\u001b[0m \u001b[0;34m\"wb\"\u001b[0m\u001b[0;34m)\u001b[0m\u001b[0;34m\u001b[0m\u001b[0;34m\u001b[0m\u001b[0m\n\u001b[0m\u001b[1;32m    542\u001b[0m         \u001b[0mown_fid\u001b[0m \u001b[0;34m=\u001b[0m \u001b[0;32mTrue\u001b[0m\u001b[0;34m\u001b[0m\u001b[0;34m\u001b[0m\u001b[0m\n\u001b[1;32m    543\u001b[0m \u001b[0;34m\u001b[0m\u001b[0m\n",
      "\u001b[0;31mFileNotFoundError\u001b[0m: [Errno 2] No such file or directory: '/test/test.npy'"
     ]
    }
   ],
   "source": [
    "np.save('/test/test.npy', c)"
   ]
  },
  {
   "cell_type": "code",
   "execution_count": 108,
   "metadata": {},
   "outputs": [
    {
     "name": "stdout",
     "output_type": "stream",
     "text": [
      "[-8 -7 -6 -5 -4 -3 -2 -1  0  1  2  3]\n"
     ]
    }
   ],
   "source": [
    "a = np.array(range(-8,4))\n",
    "print(a)"
   ]
  },
  {
   "cell_type": "code",
   "execution_count": 109,
   "metadata": {},
   "outputs": [],
   "source": [
    "def normaling(a):\n",
    "    \n",
    "    aa = a - a.min()\n",
    "    bb = a.max() - a.min()\n",
    "    cc = (2 * aa) / bb\n",
    "    dd = cc - 1\n",
    "    return dd\n",
    "cc = normaling(a)"
   ]
  },
  {
   "cell_type": "code",
   "execution_count": 114,
   "metadata": {},
   "outputs": [
    {
     "data": {
      "text/plain": [
       "numpy.ndarray"
      ]
     },
     "execution_count": 114,
     "metadata": {},
     "output_type": "execute_result"
    }
   ],
   "source": [
    "def unnormal(norm, pure):\n",
    "    ee = norm + 1\n",
    "    ff = ee/2\n",
    "    gg = ff * (pure.max() - pure.min())\n",
    "    hh = gg + pure.min()\n",
    "    return hh\n",
    "ddd = unnormal(cc, a)\n",
    "type(ddd)"
   ]
  },
  {
   "cell_type": "code",
   "execution_count": 140,
   "metadata": {},
   "outputs": [
    {
     "name": "stdout",
     "output_type": "stream",
     "text": [
      "[-0.74545455  1.         -0.45454545 -1.        ]\n"
     ]
    }
   ],
   "source": [
    "a = np.array(range(11))\n",
    "print(normal(np.array([1.4, 11, 3, 0])))"
   ]
  },
  {
   "cell_type": "code",
   "execution_count": null,
   "metadata": {},
   "outputs": [],
   "source": []
  }
 ],
 "metadata": {
  "kernelspec": {
   "display_name": "Python 3",
   "language": "python",
   "name": "python3"
  },
  "language_info": {
   "codemirror_mode": {
    "name": "ipython",
    "version": 3
   },
   "file_extension": ".py",
   "mimetype": "text/x-python",
   "name": "python",
   "nbconvert_exporter": "python",
   "pygments_lexer": "ipython3",
   "version": "3.6.10"
  }
 },
 "nbformat": 4,
 "nbformat_minor": 4
}
